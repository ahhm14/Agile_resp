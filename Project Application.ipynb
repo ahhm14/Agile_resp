{
 "cells": [
  {
   "cell_type": "code",
   "execution_count": 1,
   "metadata": {},
   "outputs": [],
   "source": [
    "import pandas as pd"
   ]
  },
  {
   "cell_type": "markdown",
   "metadata": {},
   "source": [
    "# Merging all the years"
   ]
  },
  {
   "cell_type": "code",
   "execution_count": 2,
   "metadata": {},
   "outputs": [],
   "source": [
    "pd_2014 = pd.read_csv('2014.csv')\n",
    "pd_2015 = pd.read_csv('2015.csv')\n",
    "pd_2016 = pd.read_csv('2016.csv')\n",
    "pd_2017 = pd.read_csv('2017.csv')\n",
    "pd_2018 = pd.read_csv('2018.csv')"
   ]
  },
  {
   "cell_type": "code",
   "execution_count": 3,
   "metadata": {},
   "outputs": [
    {
     "data": {
      "text/plain": [
       "(794599, 25)"
      ]
     },
     "execution_count": 3,
     "metadata": {},
     "output_type": "execute_result"
    }
   ],
   "source": [
    "data = pd.concat([pd_2014,pd_2015,pd_2016,pd_2017,pd_2018], axis=0)\n",
    "data.shape"
   ]
  },
  {
   "cell_type": "markdown",
   "metadata": {},
   "source": [
    "# Dropping Nan Values"
   ]
  },
  {
   "cell_type": "code",
   "execution_count": 4,
   "metadata": {},
   "outputs": [
    {
     "data": {
      "text/plain": [
       "(406758, 25)"
      ]
     },
     "execution_count": 4,
     "metadata": {},
     "output_type": "execute_result"
    }
   ],
   "source": [
    "new_data = data.dropna(axis = 0, how ='any')\n",
    "new_data.shape"
   ]
  },
  {
   "cell_type": "code",
   "execution_count": 8,
   "metadata": {},
   "outputs": [
    {
     "data": {
      "text/html": [
       "<div>\n",
       "<style scoped>\n",
       "    .dataframe tbody tr th:only-of-type {\n",
       "        vertical-align: middle;\n",
       "    }\n",
       "\n",
       "    .dataframe tbody tr th {\n",
       "        vertical-align: top;\n",
       "    }\n",
       "\n",
       "    .dataframe thead th {\n",
       "        text-align: right;\n",
       "    }\n",
       "</style>\n",
       "<table border=\"1\" class=\"dataframe\">\n",
       "  <thead>\n",
       "    <tr style=\"text-align: right;\">\n",
       "      <th></th>\n",
       "      <th>FITXA_ID</th>\n",
       "      <th>TIPUS</th>\n",
       "      <th>AREA</th>\n",
       "      <th>ELEMENT</th>\n",
       "      <th>DETALL</th>\n",
       "      <th>DIA_DATA_ALTA</th>\n",
       "      <th>MES_DATA_ALTA</th>\n",
       "      <th>ANY_DATA_ALTA</th>\n",
       "      <th>DIA_DATA_TANCAMENT</th>\n",
       "      <th>MES_DATA_TANCAMENT</th>\n",
       "      <th>...</th>\n",
       "      <th>SECCIO_CENSAL</th>\n",
       "      <th>TIPUS_VIA</th>\n",
       "      <th>CARRER</th>\n",
       "      <th>NUMERO</th>\n",
       "      <th>COORDENADA_X</th>\n",
       "      <th>COORDENADA_Y</th>\n",
       "      <th>LONGITUD</th>\n",
       "      <th>LATITUD</th>\n",
       "      <th>SUPORT</th>\n",
       "      <th>CANALS_RESPOSTA</th>\n",
       "    </tr>\n",
       "  </thead>\n",
       "  <tbody>\n",
       "    <tr>\n",
       "      <td>0</td>\n",
       "      <td>3</td>\n",
       "      <td>INCIDENCIA</td>\n",
       "      <td>Recollida i neteja de l'espai urbà</td>\n",
       "      <td>Neteja carrers i/o places</td>\n",
       "      <td>Objectes a netejar / retirar</td>\n",
       "      <td>31</td>\n",
       "      <td>12</td>\n",
       "      <td>2013</td>\n",
       "      <td>1</td>\n",
       "      <td>1</td>\n",
       "      <td>...</td>\n",
       "      <td>66.0</td>\n",
       "      <td>Passatge</td>\n",
       "      <td>Pere Ripoll</td>\n",
       "      <td>9.0</td>\n",
       "      <td>433035.1772</td>\n",
       "      <td>4583849.857</td>\n",
       "      <td>2.198861</td>\n",
       "      <td>41.403403</td>\n",
       "      <td>TELÈFON</td>\n",
       "      <td>NO VOL RESPOSTA</td>\n",
       "    </tr>\n",
       "    <tr>\n",
       "      <td>1</td>\n",
       "      <td>4</td>\n",
       "      <td>INCIDENCIA</td>\n",
       "      <td>Recollida i neteja de l'espai urbà</td>\n",
       "      <td>Neteja carrers i/o places</td>\n",
       "      <td>Neteja de carrers o places (ús app)</td>\n",
       "      <td>31</td>\n",
       "      <td>12</td>\n",
       "      <td>2013</td>\n",
       "      <td>1</td>\n",
       "      <td>1</td>\n",
       "      <td>...</td>\n",
       "      <td>33.0</td>\n",
       "      <td>Avinguda</td>\n",
       "      <td>Madrid</td>\n",
       "      <td>161.0</td>\n",
       "      <td>427407.7929</td>\n",
       "      <td>4581395.824</td>\n",
       "      <td>2.131839</td>\n",
       "      <td>41.380812</td>\n",
       "      <td>MÒBIL</td>\n",
       "      <td>EMAIL</td>\n",
       "    </tr>\n",
       "    <tr>\n",
       "      <td>2</td>\n",
       "      <td>2</td>\n",
       "      <td>INCIDENCIA</td>\n",
       "      <td>Recollida i neteja de l'espai urbà</td>\n",
       "      <td>Neteja carrers i/o places</td>\n",
       "      <td>Objectes a netejar / retirar</td>\n",
       "      <td>31</td>\n",
       "      <td>12</td>\n",
       "      <td>2013</td>\n",
       "      <td>1</td>\n",
       "      <td>1</td>\n",
       "      <td>...</td>\n",
       "      <td>105.0</td>\n",
       "      <td>Carrer</td>\n",
       "      <td>Feliu i Codina</td>\n",
       "      <td>80.0</td>\n",
       "      <td>430086.6035</td>\n",
       "      <td>4587527.654</td>\n",
       "      <td>2.163164</td>\n",
       "      <td>41.436276</td>\n",
       "      <td>TELÈFON</td>\n",
       "      <td>NO VOL RESPOSTA</td>\n",
       "    </tr>\n",
       "    <tr>\n",
       "      <td>3</td>\n",
       "      <td>5</td>\n",
       "      <td>INCIDENCIA</td>\n",
       "      <td>Recollida i neteja de l'espai urbà</td>\n",
       "      <td>Neteja carrers i/o places</td>\n",
       "      <td>Orins, excrements humans</td>\n",
       "      <td>1</td>\n",
       "      <td>1</td>\n",
       "      <td>2014</td>\n",
       "      <td>1</td>\n",
       "      <td>1</td>\n",
       "      <td>...</td>\n",
       "      <td>89.0</td>\n",
       "      <td>Carrer</td>\n",
       "      <td>Rosés</td>\n",
       "      <td>59.0</td>\n",
       "      <td>427558.3272</td>\n",
       "      <td>4581149.141</td>\n",
       "      <td>2.133668</td>\n",
       "      <td>41.378604</td>\n",
       "      <td>TELÈFON</td>\n",
       "      <td>SMS</td>\n",
       "    </tr>\n",
       "    <tr>\n",
       "      <td>4</td>\n",
       "      <td>1</td>\n",
       "      <td>INCIDENCIA</td>\n",
       "      <td>Recollida i neteja de l'espai urbà</td>\n",
       "      <td>Neteja carrers i/o places</td>\n",
       "      <td>Objectes a netejar / retirar</td>\n",
       "      <td>1</td>\n",
       "      <td>1</td>\n",
       "      <td>2014</td>\n",
       "      <td>1</td>\n",
       "      <td>1</td>\n",
       "      <td>...</td>\n",
       "      <td>110.0</td>\n",
       "      <td>Carrer</td>\n",
       "      <td>Perafita</td>\n",
       "      <td>4.0</td>\n",
       "      <td>430754.3104</td>\n",
       "      <td>4590140.388</td>\n",
       "      <td>2.170856</td>\n",
       "      <td>41.459866</td>\n",
       "      <td>TELÈFON</td>\n",
       "      <td>EMAIL</td>\n",
       "    </tr>\n",
       "  </tbody>\n",
       "</table>\n",
       "<p>5 rows × 25 columns</p>\n",
       "</div>"
      ],
      "text/plain": [
       "   FITXA_ID       TIPUS                                AREA  \\\n",
       "0         3  INCIDENCIA  Recollida i neteja de l'espai urbà   \n",
       "1         4  INCIDENCIA  Recollida i neteja de l'espai urbà   \n",
       "2         2  INCIDENCIA  Recollida i neteja de l'espai urbà   \n",
       "3         5  INCIDENCIA  Recollida i neteja de l'espai urbà   \n",
       "4         1  INCIDENCIA  Recollida i neteja de l'espai urbà   \n",
       "\n",
       "                     ELEMENT                               DETALL  \\\n",
       "0  Neteja carrers i/o places         Objectes a netejar / retirar   \n",
       "1  Neteja carrers i/o places  Neteja de carrers o places (ús app)   \n",
       "2  Neteja carrers i/o places         Objectes a netejar / retirar   \n",
       "3  Neteja carrers i/o places             Orins, excrements humans   \n",
       "4  Neteja carrers i/o places         Objectes a netejar / retirar   \n",
       "\n",
       "   DIA_DATA_ALTA  MES_DATA_ALTA  ANY_DATA_ALTA  DIA_DATA_TANCAMENT  \\\n",
       "0             31             12           2013                   1   \n",
       "1             31             12           2013                   1   \n",
       "2             31             12           2013                   1   \n",
       "3              1              1           2014                   1   \n",
       "4              1              1           2014                   1   \n",
       "\n",
       "   MES_DATA_TANCAMENT  ...  SECCIO_CENSAL  TIPUS_VIA          CARRER  NUMERO  \\\n",
       "0                   1  ...           66.0   Passatge     Pere Ripoll     9.0   \n",
       "1                   1  ...           33.0   Avinguda          Madrid   161.0   \n",
       "2                   1  ...          105.0     Carrer  Feliu i Codina    80.0   \n",
       "3                   1  ...           89.0     Carrer           Rosés    59.0   \n",
       "4                   1  ...          110.0     Carrer        Perafita     4.0   \n",
       "\n",
       "  COORDENADA_X  COORDENADA_Y  LONGITUD    LATITUD   SUPORT  CANALS_RESPOSTA  \n",
       "0  433035.1772   4583849.857  2.198861  41.403403  TELÈFON  NO VOL RESPOSTA  \n",
       "1  427407.7929   4581395.824  2.131839  41.380812    MÒBIL            EMAIL  \n",
       "2  430086.6035   4587527.654  2.163164  41.436276  TELÈFON  NO VOL RESPOSTA  \n",
       "3  427558.3272   4581149.141  2.133668  41.378604  TELÈFON              SMS  \n",
       "4  430754.3104   4590140.388  2.170856  41.459866  TELÈFON            EMAIL  \n",
       "\n",
       "[5 rows x 25 columns]"
      ]
     },
     "execution_count": 8,
     "metadata": {},
     "output_type": "execute_result"
    }
   ],
   "source": [
    "new_data.head()"
   ]
  },
  {
   "cell_type": "code",
   "execution_count": 32,
   "metadata": {},
   "outputs": [],
   "source": [
    "codi_barri= new_data[['BARRI','CODI_BARRI']].drop_duplicates()"
   ]
  },
  {
   "cell_type": "code",
   "execution_count": 33,
   "metadata": {},
   "outputs": [
    {
     "data": {
      "text/plain": [
       "0         68.0\n",
       "1         19.0\n",
       "2         43.0\n",
       "3         18.0\n",
       "4         55.0\n",
       "          ... \n",
       "1794      47.0\n",
       "2134      42.0\n",
       "2328      58.0\n",
       "140       11.0\n",
       "102478    11.0\n",
       "Name: CODI_BARRI, Length: 75, dtype: float64"
      ]
     },
     "execution_count": 33,
     "metadata": {},
     "output_type": "execute_result"
    }
   ],
   "source": [
    "pd.to_numeric(codi_barri['CODI_BARRI'])"
   ]
  },
  {
   "cell_type": "code",
   "execution_count": 40,
   "metadata": {},
   "outputs": [
    {
     "name": "stdout",
     "output_type": "stream",
     "text": [
      "                                            BARRI  CODI_BARRI\n",
      "19                                       el Raval         1.0\n",
      "26                                 el Barri Gòtic         2.0\n",
      "445                                la Barceloneta         3.0\n",
      "30          Sant Pere, Santa Caterina i la Ribera         4.0\n",
      "222                                 el Fort Pienc         5.0\n",
      "..                                            ...         ...\n",
      "169  Diagonal Mar i el Front Marítim del Poblenou        69.0\n",
      "219                         el Besòs i el Maresme        70.0\n",
      "36                        Provençals del Poblenou        71.0\n",
      "69                       Sant Martí de Provençals        72.0\n",
      "533                           la Verneda i la Pau        73.0\n",
      "\n",
      "[75 rows x 2 columns]\n"
     ]
    }
   ],
   "source": [
    "print(codi_barri.sort_values(['CODI_BARRI']))"
   ]
  },
  {
   "cell_type": "code",
   "execution_count": 15,
   "metadata": {},
   "outputs": [
    {
     "ename": "SyntaxError",
     "evalue": "invalid syntax (<ipython-input-15-6d47a8869c6a>, line 1)",
     "output_type": "error",
     "traceback": [
      "\u001b[1;36m  File \u001b[1;32m\"<ipython-input-15-6d47a8869c6a>\"\u001b[1;36m, line \u001b[1;32m1\u001b[0m\n\u001b[1;33m    new_data[new_data['BARRI'== el Raval]]\u001b[0m\n\u001b[1;37m                                       ^\u001b[0m\n\u001b[1;31mSyntaxError\u001b[0m\u001b[1;31m:\u001b[0m invalid syntax\n"
     ]
    }
   ],
   "source": [
    "new_data[new_data['BARRI'== el Raval]"
   ]
  },
  {
   "cell_type": "code",
   "execution_count": 6,
   "metadata": {},
   "outputs": [],
   "source": [
    "#new_data.to_excel(\"new_data.xlsx\")"
   ]
  },
  {
   "cell_type": "markdown",
   "metadata": {},
   "source": [
    "# Data pre-processing"
   ]
  },
  {
   "cell_type": "code",
   "execution_count": 7,
   "metadata": {},
   "outputs": [
    {
     "name": "stdout",
     "output_type": "stream",
     "text": [
      "Index(['TIPUS', 'AREA', 'ELEMENT', 'DETALL', 'DISTRICTE', 'BARRI', 'TIPUS_VIA',\n",
      "       'CARRER', 'SUPORT', 'CANALS_RESPOSTA'],\n",
      "      dtype='object')\n",
      "Index(['FITXA_ID', 'DIA_DATA_ALTA', 'MES_DATA_ALTA', 'ANY_DATA_ALTA',\n",
      "       'DIA_DATA_TANCAMENT', 'MES_DATA_TANCAMENT', 'ANY_DATA_TANCAMENT',\n",
      "       'CODI_DISTRICTE', 'CODI_BARRI', 'SECCIO_CENSAL', 'NUMERO',\n",
      "       'COORDENADA_X', 'COORDENADA_Y', 'LONGITUD', 'LATITUD'],\n",
      "      dtype='object')\n",
      "Index([], dtype='object')\n"
     ]
    }
   ],
   "source": [
    "# Checking Categorical Data\n",
    "obj = new_data.select_dtypes(include=['object']).columns\n",
    "inte = new_data.select_dtypes(include=['int64','float64']).columns\n",
    "bol = new_data.select_dtypes(include=['bool']).columns\n",
    "print(obj)\n",
    "print(inte)\n",
    "print(bol)"
   ]
  },
  {
   "cell_type": "code",
   "execution_count": 8,
   "metadata": {},
   "outputs": [
    {
     "data": {
      "text/plain": [
       "FITXA_ID              0\n",
       "TIPUS                 0\n",
       "AREA                  0\n",
       "ELEMENT               0\n",
       "DETALL                0\n",
       "DIA_DATA_ALTA         0\n",
       "MES_DATA_ALTA         0\n",
       "ANY_DATA_ALTA         0\n",
       "DIA_DATA_TANCAMENT    0\n",
       "MES_DATA_TANCAMENT    0\n",
       "ANY_DATA_TANCAMENT    0\n",
       "CODI_DISTRICTE        0\n",
       "DISTRICTE             0\n",
       "CODI_BARRI            0\n",
       "BARRI                 0\n",
       "SECCIO_CENSAL         0\n",
       "TIPUS_VIA             0\n",
       "CARRER                0\n",
       "NUMERO                0\n",
       "COORDENADA_X          0\n",
       "COORDENADA_Y          0\n",
       "LONGITUD              0\n",
       "LATITUD               0\n",
       "SUPORT                0\n",
       "CANALS_RESPOSTA       0\n",
       "dtype: int64"
      ]
     },
     "execution_count": 8,
     "metadata": {},
     "output_type": "execute_result"
    }
   ],
   "source": [
    "new_data.isnull().sum()"
   ]
  },
  {
   "cell_type": "code",
   "execution_count": 9,
   "metadata": {},
   "outputs": [],
   "source": [
    "droplist = ['DIA_DATA_TANCAMENT','MES_DATA_TANCAMENT','ANY_DATA_TANCAMENT','CODI_DISTRICTE','CODI_BARRI','SECCIO_CENSAL','COORDENADA_X','COORDENADA_Y']"
   ]
  },
  {
   "cell_type": "markdown",
   "metadata": {},
   "source": [
    "Concatenate DIA-MES-ANY-BARRI-SUPPORT\n",
    "this is made to notice the differences between rows"
   ]
  },
  {
   "cell_type": "code",
   "execution_count": 10,
   "metadata": {},
   "outputs": [
    {
     "name": "stderr",
     "output_type": "stream",
     "text": [
      "C:\\Users\\alex1\\Anaconda3\\lib\\site-packages\\ipykernel_launcher.py:1: SettingWithCopyWarning: \n",
      "A value is trying to be set on a copy of a slice from a DataFrame.\n",
      "Try using .loc[row_indexer,col_indexer] = value instead\n",
      "\n",
      "See the caveats in the documentation: http://pandas.pydata.org/pandas-docs/stable/user_guide/indexing.html#returning-a-view-versus-a-copy\n",
      "  \"\"\"Entry point for launching an IPython kernel.\n"
     ]
    }
   ],
   "source": [
    "new_data['concat'] = new_data['DIA_DATA_ALTA'].map(str)+'-'+new_data['MES_DATA_ALTA'].map(str)+'-'+new_data['ANY_DATA_ALTA'].map(str)+'-'+new_data['BARRI']+'-'+new_data['SUPORT']"
   ]
  },
  {
   "cell_type": "markdown",
   "metadata": {},
   "source": [
    "# A) Categorical Data Analysis"
   ]
  },
  {
   "cell_type": "markdown",
   "metadata": {},
   "source": [
    "## 1) TIPUS Analysis"
   ]
  },
  {
   "cell_type": "code",
   "execution_count": 11,
   "metadata": {},
   "outputs": [
    {
     "data": {
      "text/plain": [
       "INCIDENCIA           310652\n",
       "QUEIXA                52814\n",
       "SUGGERIMENT           39272\n",
       "PETICIO DE SERVEI      4020\n",
       "Name: TIPUS, dtype: int64"
      ]
     },
     "execution_count": 11,
     "metadata": {},
     "output_type": "execute_result"
    }
   ],
   "source": [
    "new_data['TIPUS'].value_counts()"
   ]
  },
  {
   "cell_type": "markdown",
   "metadata": {},
   "source": [
    "Checking on similar data for detall"
   ]
  },
  {
   "cell_type": "code",
   "execution_count": 12,
   "metadata": {},
   "outputs": [],
   "source": [
    "neteja_df = new_data[new_data['DETALL'].str.contains(\"neteja\")]"
   ]
  },
  {
   "cell_type": "code",
   "execution_count": 13,
   "metadata": {},
   "outputs": [
    {
     "data": {
      "text/plain": [
       "6-7-2018-el Raval-TELÈFON                          12\n",
       "28-6-2017-el Raval-TELÈFON                         12\n",
       "3-8-2017-el Raval-MÒBIL                            12\n",
       "9-10-2018-el Raval-TELÈFON                         11\n",
       "28-9-2018-el Parc i la Llacuna del Poblenou-WEB    10\n",
       "                                                   ..\n",
       "4-9-2018-la Dreta de l'Eixample-WEB                 1\n",
       "21-10-2016-el Besòs i el Maresme-TELÈFON            1\n",
       "10-1-2014-la Font de la Guatlla-WEB                 1\n",
       "15-11-2018-Horta-INSTÀNCIA                          1\n",
       "26-11-2018-Horta-WEB                                1\n",
       "Name: concat, Length: 41764, dtype: int64"
      ]
     },
     "execution_count": 13,
     "metadata": {},
     "output_type": "execute_result"
    }
   ],
   "source": [
    "neteja_df['concat'].value_counts()"
   ]
  },
  {
   "cell_type": "code",
   "execution_count": 14,
   "metadata": {},
   "outputs": [],
   "source": [
    "plaga_df = new_data[new_data['DETALL'].str.contains(\"plaga\")]"
   ]
  },
  {
   "cell_type": "code",
   "execution_count": 15,
   "metadata": {},
   "outputs": [
    {
     "data": {
      "text/plain": [
       "7-7-2015-Sant Martí de Provençals-TELÈFON                        94\n",
       "7-7-2015-Diagonal Mar i el Front Marítim del Poblenou-TELÈFON    48\n",
       "8-7-2015-Sant Martí de Provençals-TELÈFON                        47\n",
       "6-7-2015-Sant Martí de Provençals-TELÈFON                        45\n",
       "6-7-2015-Diagonal Mar i el Front Marítim del Poblenou-TELÈFON    36\n",
       "                                                                 ..\n",
       "22-5-2015-Sant Gervasi - la Bonanova-TELÈFON                      1\n",
       "4-7-2017-el Fort Pienc-TELÈFON                                    1\n",
       "24-1-2018-la Salut-WEB                                            1\n",
       "10-10-2017-la Guineueta-TELÈFON                                   1\n",
       "10-11-2015-Diagonal Mar i el Front Marítim del Poblenou-WEB       1\n",
       "Name: concat, Length: 7175, dtype: int64"
      ]
     },
     "execution_count": 15,
     "metadata": {},
     "output_type": "execute_result"
    }
   ],
   "source": [
    "plaga_df['concat'].value_counts()"
   ]
  },
  {
   "cell_type": "code",
   "execution_count": 16,
   "metadata": {},
   "outputs": [],
   "source": [
    "enllumenat_df = new_data[new_data['DETALL'].str.contains(\"Enllumenat\")]"
   ]
  },
  {
   "cell_type": "code",
   "execution_count": 17,
   "metadata": {},
   "outputs": [
    {
     "data": {
      "text/plain": [
       "14-5-2017-el Raval-WEB                                  22\n",
       "14-5-2017-Sant Pere, Santa Caterina i la Ribera-WEB     22\n",
       "15-10-2017-Sant Pere, Santa Caterina i la Ribera-WEB    19\n",
       "8-10-2017-el Poble-sec-WEB                              17\n",
       "19-10-2017-la Dreta de l'Eixample-WEB                   16\n",
       "                                                        ..\n",
       "21-12-2015-Sarrià-TELÈFON                                1\n",
       "21-4-2017-el Fort Pienc-WEB                              1\n",
       "2-6-2014-la Prosperitat-TELÈFON                          1\n",
       "11-5-2018-la Maternitat i Sant Ramon-ALTRES SUPORTS      1\n",
       "10-2-2015-Torre Baró-TELÈFON                             1\n",
       "Name: concat, Length: 22281, dtype: int64"
      ]
     },
     "execution_count": 17,
     "metadata": {},
     "output_type": "execute_result"
    }
   ],
   "source": [
    "enllumenat_df['concat'].value_counts()"
   ]
  },
  {
   "cell_type": "markdown",
   "metadata": {},
   "source": [
    "Selecting only Tipus = Incidencia and Queixa"
   ]
  },
  {
   "cell_type": "code",
   "execution_count": 18,
   "metadata": {},
   "outputs": [],
   "source": [
    "new_data_2 = new_data[(new_data['TIPUS']!='PETICIO DE SERVEI') & (new_data['TIPUS']!='SUGGERIMENT')]"
   ]
  },
  {
   "cell_type": "code",
   "execution_count": 19,
   "metadata": {},
   "outputs": [
    {
     "data": {
      "text/plain": [
       "INCIDENCIA    310652\n",
       "QUEIXA         52814\n",
       "Name: TIPUS, dtype: int64"
      ]
     },
     "execution_count": 19,
     "metadata": {},
     "output_type": "execute_result"
    }
   ],
   "source": [
    "new_data_2['TIPUS'].value_counts()"
   ]
  },
  {
   "cell_type": "code",
   "execution_count": 20,
   "metadata": {},
   "outputs": [
    {
     "data": {
      "text/plain": [
       "Neteja carrers i/o places                           68615\n",
       "Arbrat                                              36823\n",
       "Voreres                                             28018\n",
       "Enllumenat públic                                   27098\n",
       "Servei de vigilància i control de plagues           17505\n",
       "                                                    ...  \n",
       "Ateneus de fabricació                                   2\n",
       "Eleccions                                               2\n",
       "Salut ambiental i llei del tabac                        2\n",
       "Recollida selectiva porta a porta                       1\n",
       "Passi acompanyant per persones amb discapacitats        1\n",
       "Name: ELEMENT, Length: 99, dtype: int64"
      ]
     },
     "execution_count": 20,
     "metadata": {},
     "output_type": "execute_result"
    }
   ],
   "source": [
    "new_data_2['ELEMENT'].value_counts()"
   ]
  },
  {
   "cell_type": "markdown",
   "metadata": {},
   "source": [
    "Addding the treshold for the \"ELEMENT\" - taking out elements that appaear below (treshold) times"
   ]
  },
  {
   "cell_type": "code",
   "execution_count": 21,
   "metadata": {},
   "outputs": [],
   "source": [
    "new_data_3 = new_data_2[new_data_2['ELEMENT'].map(new_data_2['ELEMENT'].value_counts()) > 100]"
   ]
  },
  {
   "cell_type": "code",
   "execution_count": 22,
   "metadata": {},
   "outputs": [
    {
     "data": {
      "text/plain": [
       "INCIDENCIA    309963\n",
       "QUEIXA         52482\n",
       "Name: TIPUS, dtype: int64"
      ]
     },
     "execution_count": 22,
     "metadata": {},
     "output_type": "execute_result"
    }
   ],
   "source": [
    "new_data_3['TIPUS'].value_counts()"
   ]
  },
  {
   "cell_type": "code",
   "execution_count": 23,
   "metadata": {},
   "outputs": [
    {
     "data": {
      "text/plain": [
       "(362445, 26)"
      ]
     },
     "execution_count": 23,
     "metadata": {},
     "output_type": "execute_result"
    }
   ],
   "source": [
    "new_data_3.shape"
   ]
  },
  {
   "cell_type": "code",
   "execution_count": 24,
   "metadata": {},
   "outputs": [
    {
     "data": {
      "text/plain": [
       "Manteniment de l'espai urbà                 171891\n",
       "Recollida i neteja de l'espai urbà          134621\n",
       "Sanitat i salut pública                      20037\n",
       "Mobilitat                                    18961\n",
       "Urbanisme, obres i habitatge                  7903\n",
       "Prevenció i seguretat                         6684\n",
       "Transports públics                            1151\n",
       "Nadal                                          667\n",
       "Informació, tràmits i atenció al ciutadà       530\n",
       "Name: AREA, dtype: int64"
      ]
     },
     "execution_count": 24,
     "metadata": {},
     "output_type": "execute_result"
    }
   ],
   "source": [
    "new_data_3['AREA'].value_counts()"
   ]
  },
  {
   "cell_type": "code",
   "execution_count": 25,
   "metadata": {},
   "outputs": [],
   "source": [
    "final_df = new_data_3.drop(droplist, axis=1)"
   ]
  },
  {
   "cell_type": "code",
   "execution_count": 26,
   "metadata": {},
   "outputs": [],
   "source": [
    "final_df.drop('FITXA_ID',axis=1,inplace=True)"
   ]
  },
  {
   "cell_type": "markdown",
   "metadata": {},
   "source": [
    "### FINAL DATASET"
   ]
  },
  {
   "cell_type": "code",
   "execution_count": 27,
   "metadata": {
    "scrolled": true
   },
   "outputs": [
    {
     "data": {
      "text/html": [
       "<div>\n",
       "<style scoped>\n",
       "    .dataframe tbody tr th:only-of-type {\n",
       "        vertical-align: middle;\n",
       "    }\n",
       "\n",
       "    .dataframe tbody tr th {\n",
       "        vertical-align: top;\n",
       "    }\n",
       "\n",
       "    .dataframe thead th {\n",
       "        text-align: right;\n",
       "    }\n",
       "</style>\n",
       "<table border=\"1\" class=\"dataframe\">\n",
       "  <thead>\n",
       "    <tr style=\"text-align: right;\">\n",
       "      <th></th>\n",
       "      <th>TIPUS</th>\n",
       "      <th>AREA</th>\n",
       "      <th>ELEMENT</th>\n",
       "      <th>DETALL</th>\n",
       "      <th>DIA_DATA_ALTA</th>\n",
       "      <th>MES_DATA_ALTA</th>\n",
       "      <th>ANY_DATA_ALTA</th>\n",
       "      <th>DISTRICTE</th>\n",
       "      <th>BARRI</th>\n",
       "      <th>TIPUS_VIA</th>\n",
       "      <th>CARRER</th>\n",
       "      <th>NUMERO</th>\n",
       "      <th>LONGITUD</th>\n",
       "      <th>LATITUD</th>\n",
       "      <th>SUPORT</th>\n",
       "      <th>CANALS_RESPOSTA</th>\n",
       "      <th>concat</th>\n",
       "    </tr>\n",
       "  </thead>\n",
       "  <tbody>\n",
       "    <tr>\n",
       "      <td>0</td>\n",
       "      <td>INCIDENCIA</td>\n",
       "      <td>Recollida i neteja de l'espai urbà</td>\n",
       "      <td>Neteja carrers i/o places</td>\n",
       "      <td>Objectes a netejar / retirar</td>\n",
       "      <td>31</td>\n",
       "      <td>12</td>\n",
       "      <td>2013</td>\n",
       "      <td>Sant Martí</td>\n",
       "      <td>el Poblenou</td>\n",
       "      <td>Passatge</td>\n",
       "      <td>Pere Ripoll</td>\n",
       "      <td>9.0</td>\n",
       "      <td>2.198861</td>\n",
       "      <td>41.403403</td>\n",
       "      <td>TELÈFON</td>\n",
       "      <td>NO VOL RESPOSTA</td>\n",
       "      <td>31-12-2013-el Poblenou-TELÈFON</td>\n",
       "    </tr>\n",
       "    <tr>\n",
       "      <td>1</td>\n",
       "      <td>INCIDENCIA</td>\n",
       "      <td>Recollida i neteja de l'espai urbà</td>\n",
       "      <td>Neteja carrers i/o places</td>\n",
       "      <td>Neteja de carrers o places (ús app)</td>\n",
       "      <td>31</td>\n",
       "      <td>12</td>\n",
       "      <td>2013</td>\n",
       "      <td>Les Corts</td>\n",
       "      <td>les Corts</td>\n",
       "      <td>Avinguda</td>\n",
       "      <td>Madrid</td>\n",
       "      <td>161.0</td>\n",
       "      <td>2.131839</td>\n",
       "      <td>41.380812</td>\n",
       "      <td>MÒBIL</td>\n",
       "      <td>EMAIL</td>\n",
       "      <td>31-12-2013-les Corts-MÒBIL</td>\n",
       "    </tr>\n",
       "    <tr>\n",
       "      <td>2</td>\n",
       "      <td>INCIDENCIA</td>\n",
       "      <td>Recollida i neteja de l'espai urbà</td>\n",
       "      <td>Neteja carrers i/o places</td>\n",
       "      <td>Objectes a netejar / retirar</td>\n",
       "      <td>31</td>\n",
       "      <td>12</td>\n",
       "      <td>2013</td>\n",
       "      <td>Horta-Guinardó</td>\n",
       "      <td>Horta</td>\n",
       "      <td>Carrer</td>\n",
       "      <td>Feliu i Codina</td>\n",
       "      <td>80.0</td>\n",
       "      <td>2.163164</td>\n",
       "      <td>41.436276</td>\n",
       "      <td>TELÈFON</td>\n",
       "      <td>NO VOL RESPOSTA</td>\n",
       "      <td>31-12-2013-Horta-TELÈFON</td>\n",
       "    </tr>\n",
       "    <tr>\n",
       "      <td>3</td>\n",
       "      <td>INCIDENCIA</td>\n",
       "      <td>Recollida i neteja de l'espai urbà</td>\n",
       "      <td>Neteja carrers i/o places</td>\n",
       "      <td>Orins, excrements humans</td>\n",
       "      <td>1</td>\n",
       "      <td>1</td>\n",
       "      <td>2014</td>\n",
       "      <td>Sants-Montjuïc</td>\n",
       "      <td>Sants</td>\n",
       "      <td>Carrer</td>\n",
       "      <td>Rosés</td>\n",
       "      <td>59.0</td>\n",
       "      <td>2.133668</td>\n",
       "      <td>41.378604</td>\n",
       "      <td>TELÈFON</td>\n",
       "      <td>SMS</td>\n",
       "      <td>1-1-2014-Sants-TELÈFON</td>\n",
       "    </tr>\n",
       "    <tr>\n",
       "      <td>4</td>\n",
       "      <td>INCIDENCIA</td>\n",
       "      <td>Recollida i neteja de l'espai urbà</td>\n",
       "      <td>Neteja carrers i/o places</td>\n",
       "      <td>Objectes a netejar / retirar</td>\n",
       "      <td>1</td>\n",
       "      <td>1</td>\n",
       "      <td>2014</td>\n",
       "      <td>Nou Barris</td>\n",
       "      <td>Ciutat Meridiana</td>\n",
       "      <td>Carrer</td>\n",
       "      <td>Perafita</td>\n",
       "      <td>4.0</td>\n",
       "      <td>2.170856</td>\n",
       "      <td>41.459866</td>\n",
       "      <td>TELÈFON</td>\n",
       "      <td>EMAIL</td>\n",
       "      <td>1-1-2014-Ciutat Meridiana-TELÈFON</td>\n",
       "    </tr>\n",
       "  </tbody>\n",
       "</table>\n",
       "</div>"
      ],
      "text/plain": [
       "        TIPUS                                AREA                    ELEMENT  \\\n",
       "0  INCIDENCIA  Recollida i neteja de l'espai urbà  Neteja carrers i/o places   \n",
       "1  INCIDENCIA  Recollida i neteja de l'espai urbà  Neteja carrers i/o places   \n",
       "2  INCIDENCIA  Recollida i neteja de l'espai urbà  Neteja carrers i/o places   \n",
       "3  INCIDENCIA  Recollida i neteja de l'espai urbà  Neteja carrers i/o places   \n",
       "4  INCIDENCIA  Recollida i neteja de l'espai urbà  Neteja carrers i/o places   \n",
       "\n",
       "                                DETALL  DIA_DATA_ALTA  MES_DATA_ALTA  \\\n",
       "0         Objectes a netejar / retirar             31             12   \n",
       "1  Neteja de carrers o places (ús app)             31             12   \n",
       "2         Objectes a netejar / retirar             31             12   \n",
       "3             Orins, excrements humans              1              1   \n",
       "4         Objectes a netejar / retirar              1              1   \n",
       "\n",
       "   ANY_DATA_ALTA       DISTRICTE             BARRI TIPUS_VIA          CARRER  \\\n",
       "0           2013      Sant Martí       el Poblenou  Passatge     Pere Ripoll   \n",
       "1           2013       Les Corts         les Corts  Avinguda          Madrid   \n",
       "2           2013  Horta-Guinardó             Horta    Carrer  Feliu i Codina   \n",
       "3           2014  Sants-Montjuïc             Sants    Carrer           Rosés   \n",
       "4           2014      Nou Barris  Ciutat Meridiana    Carrer        Perafita   \n",
       "\n",
       "   NUMERO  LONGITUD    LATITUD   SUPORT  CANALS_RESPOSTA  \\\n",
       "0     9.0  2.198861  41.403403  TELÈFON  NO VOL RESPOSTA   \n",
       "1   161.0  2.131839  41.380812    MÒBIL            EMAIL   \n",
       "2    80.0  2.163164  41.436276  TELÈFON  NO VOL RESPOSTA   \n",
       "3    59.0  2.133668  41.378604  TELÈFON              SMS   \n",
       "4     4.0  2.170856  41.459866  TELÈFON            EMAIL   \n",
       "\n",
       "                              concat  \n",
       "0     31-12-2013-el Poblenou-TELÈFON  \n",
       "1         31-12-2013-les Corts-MÒBIL  \n",
       "2           31-12-2013-Horta-TELÈFON  \n",
       "3             1-1-2014-Sants-TELÈFON  \n",
       "4  1-1-2014-Ciutat Meridiana-TELÈFON  "
      ]
     },
     "execution_count": 27,
     "metadata": {},
     "output_type": "execute_result"
    }
   ],
   "source": [
    "final_df.head()"
   ]
  },
  {
   "cell_type": "code",
   "execution_count": 28,
   "metadata": {},
   "outputs": [],
   "source": [
    "final_df.to_excel(\"final_dataset.xlsx\")"
   ]
  },
  {
   "cell_type": "code",
   "execution_count": 38,
   "metadata": {},
   "outputs": [
    {
     "name": "stderr",
     "output_type": "stream",
     "text": [
      "C:\\Users\\alex1\\Anaconda3\\lib\\site-packages\\ipykernel_launcher.py:1: SettingWithCopyWarning: \n",
      "A value is trying to be set on a copy of a slice from a DataFrame.\n",
      "Try using .loc[row_indexer,col_indexer] = value instead\n",
      "\n",
      "See the caveats in the documentation: http://pandas.pydata.org/pandas-docs/stable/user_guide/indexing.html#returning-a-view-versus-a-copy\n",
      "  \"\"\"Entry point for launching an IPython kernel.\n"
     ]
    },
    {
     "data": {
      "text/html": [
       "<div>\n",
       "<style scoped>\n",
       "    .dataframe tbody tr th:only-of-type {\n",
       "        vertical-align: middle;\n",
       "    }\n",
       "\n",
       "    .dataframe tbody tr th {\n",
       "        vertical-align: top;\n",
       "    }\n",
       "\n",
       "    .dataframe thead th {\n",
       "        text-align: right;\n",
       "    }\n",
       "</style>\n",
       "<table border=\"1\" class=\"dataframe\">\n",
       "  <thead>\n",
       "    <tr style=\"text-align: right;\">\n",
       "      <th>TIPUS</th>\n",
       "      <th>INCIDENCIA</th>\n",
       "      <th>QUEIXA</th>\n",
       "    </tr>\n",
       "    <tr>\n",
       "      <th>ANY_DATA_ALTA</th>\n",
       "      <th></th>\n",
       "      <th></th>\n",
       "    </tr>\n",
       "  </thead>\n",
       "  <tbody>\n",
       "    <tr>\n",
       "      <td>2013</td>\n",
       "      <td>672</td>\n",
       "      <td>265</td>\n",
       "    </tr>\n",
       "    <tr>\n",
       "      <td>2014</td>\n",
       "      <td>49036</td>\n",
       "      <td>8583</td>\n",
       "    </tr>\n",
       "    <tr>\n",
       "      <td>2015</td>\n",
       "      <td>54972</td>\n",
       "      <td>9727</td>\n",
       "    </tr>\n",
       "    <tr>\n",
       "      <td>2016</td>\n",
       "      <td>56708</td>\n",
       "      <td>10342</td>\n",
       "    </tr>\n",
       "    <tr>\n",
       "      <td>2017</td>\n",
       "      <td>66051</td>\n",
       "      <td>10647</td>\n",
       "    </tr>\n",
       "    <tr>\n",
       "      <td>2018</td>\n",
       "      <td>83020</td>\n",
       "      <td>13015</td>\n",
       "    </tr>\n",
       "  </tbody>\n",
       "</table>\n",
       "</div>"
      ],
      "text/plain": [
       "TIPUS          INCIDENCIA  QUEIXA\n",
       "ANY_DATA_ALTA                    \n",
       "2013                  672     265\n",
       "2014                49036    8583\n",
       "2015                54972    9727\n",
       "2016                56708   10342\n",
       "2017                66051   10647\n",
       "2018                83020   13015"
      ]
     },
     "execution_count": 38,
     "metadata": {},
     "output_type": "execute_result"
    }
   ],
   "source": [
    "new_data_3['freq'] = new_data_3.groupby('TIPUS')['TIPUS'].transform('count')\n",
    "pivot_any = pd.pivot_table(new_data_3, 'freq', 'ANY_DATA_ALTA', 'TIPUS', aggfunc='count')\n",
    "pivot_any"
   ]
  },
  {
   "cell_type": "code",
   "execution_count": 31,
   "metadata": {},
   "outputs": [],
   "source": [
    "pd_2015= pd_2015[(pd_2015['TIPUS']!='PETICIO DE SERVEI') & (pd_2015['TIPUS']!='SUGGERIMENT') & (pd_2015['TIPUS']!='AGRAIMENT') & (pd_2015['TIPUS']!='CONSULTA')]"
   ]
  },
  {
   "cell_type": "code",
   "execution_count": 32,
   "metadata": {},
   "outputs": [
    {
     "data": {
      "text/html": [
       "<div>\n",
       "<style scoped>\n",
       "    .dataframe tbody tr th:only-of-type {\n",
       "        vertical-align: middle;\n",
       "    }\n",
       "\n",
       "    .dataframe tbody tr th {\n",
       "        vertical-align: top;\n",
       "    }\n",
       "\n",
       "    .dataframe thead th {\n",
       "        text-align: right;\n",
       "    }\n",
       "</style>\n",
       "<table border=\"1\" class=\"dataframe\">\n",
       "  <thead>\n",
       "    <tr style=\"text-align: right;\">\n",
       "      <th>TIPUS</th>\n",
       "      <th>INCIDENCIA</th>\n",
       "      <th>QUEIXA</th>\n",
       "    </tr>\n",
       "    <tr>\n",
       "      <th>MES_DATA_ALTA</th>\n",
       "      <th></th>\n",
       "      <th></th>\n",
       "    </tr>\n",
       "  </thead>\n",
       "  <tbody>\n",
       "    <tr>\n",
       "      <td>1</td>\n",
       "      <td>4373</td>\n",
       "      <td>1708</td>\n",
       "    </tr>\n",
       "    <tr>\n",
       "      <td>2</td>\n",
       "      <td>3796</td>\n",
       "      <td>1544</td>\n",
       "    </tr>\n",
       "    <tr>\n",
       "      <td>3</td>\n",
       "      <td>4584</td>\n",
       "      <td>2050</td>\n",
       "    </tr>\n",
       "    <tr>\n",
       "      <td>4</td>\n",
       "      <td>4851</td>\n",
       "      <td>1853</td>\n",
       "    </tr>\n",
       "    <tr>\n",
       "      <td>5</td>\n",
       "      <td>5173</td>\n",
       "      <td>2016</td>\n",
       "    </tr>\n",
       "    <tr>\n",
       "      <td>6</td>\n",
       "      <td>6004</td>\n",
       "      <td>2292</td>\n",
       "    </tr>\n",
       "    <tr>\n",
       "      <td>7</td>\n",
       "      <td>9780</td>\n",
       "      <td>2977</td>\n",
       "    </tr>\n",
       "    <tr>\n",
       "      <td>8</td>\n",
       "      <td>4773</td>\n",
       "      <td>1578</td>\n",
       "    </tr>\n",
       "    <tr>\n",
       "      <td>9</td>\n",
       "      <td>5962</td>\n",
       "      <td>1914</td>\n",
       "    </tr>\n",
       "    <tr>\n",
       "      <td>10</td>\n",
       "      <td>5547</td>\n",
       "      <td>2062</td>\n",
       "    </tr>\n",
       "    <tr>\n",
       "      <td>11</td>\n",
       "      <td>5360</td>\n",
       "      <td>1974</td>\n",
       "    </tr>\n",
       "    <tr>\n",
       "      <td>12</td>\n",
       "      <td>4520</td>\n",
       "      <td>1663</td>\n",
       "    </tr>\n",
       "  </tbody>\n",
       "</table>\n",
       "</div>"
      ],
      "text/plain": [
       "TIPUS          INCIDENCIA  QUEIXA\n",
       "MES_DATA_ALTA                    \n",
       "1                    4373    1708\n",
       "2                    3796    1544\n",
       "3                    4584    2050\n",
       "4                    4851    1853\n",
       "5                    5173    2016\n",
       "6                    6004    2292\n",
       "7                    9780    2977\n",
       "8                    4773    1578\n",
       "9                    5962    1914\n",
       "10                   5547    2062\n",
       "11                   5360    1974\n",
       "12                   4520    1663"
      ]
     },
     "execution_count": 32,
     "metadata": {},
     "output_type": "execute_result"
    }
   ],
   "source": [
    "pd_2015['freq'] = pd_2015.groupby('TIPUS')['TIPUS'].transform('count')\n",
    "pivot_mes = pd.pivot_table(pd_2015, 'freq', 'MES_DATA_ALTA', 'TIPUS', aggfunc='count')\n",
    "pivot_mes"
   ]
  },
  {
   "cell_type": "code",
   "execution_count": 33,
   "metadata": {},
   "outputs": [
    {
     "data": {
      "image/png": "[encoded data removed]",
      "text/plain": [
       "<Figure size 864x648 with 1 Axes>"
      ]
     },
     "metadata": {
      "needs_background": "light"
     },
     "output_type": "display_data"
    }
   ],
   "source": [
    "%matplotlib inline \n",
    "import matplotlib.pylab as plt\n",
    "\n",
    "plot1 = pivot_mes.plot(kind='bar',style='b', stacked =True, alpha=0.7,title = \"2015 Total Petitions per Month\", figsize=(12,9))\n",
    "plot1.legend(loc='center left', bbox_to_anchor=(1, 0.5))\n",
    "plt.savefig(\"2015-Month.png\",dpi= 300, bbox_inches='tight')\n",
    "plt.show()\n"
   ]
  },
  {
   "cell_type": "code",
   "execution_count": 34,
   "metadata": {},
   "outputs": [],
   "source": [
    "pd_2016= pd_2016[(pd_2016['TIPUS']!='PETICIO DE SERVEI') & (pd_2016['TIPUS']!='SUGGERIMENT') & (pd_2016['TIPUS']!='AGRAIMENT') & (pd_2016['TIPUS']!='CONSULTA')]"
   ]
  },
  {
   "cell_type": "code",
   "execution_count": 35,
   "metadata": {},
   "outputs": [
    {
     "data": {
      "text/html": [
       "<div>\n",
       "<style scoped>\n",
       "    .dataframe tbody tr th:only-of-type {\n",
       "        vertical-align: middle;\n",
       "    }\n",
       "\n",
       "    .dataframe tbody tr th {\n",
       "        vertical-align: top;\n",
       "    }\n",
       "\n",
       "    .dataframe thead th {\n",
       "        text-align: right;\n",
       "    }\n",
       "</style>\n",
       "<table border=\"1\" class=\"dataframe\">\n",
       "  <thead>\n",
       "    <tr style=\"text-align: right;\">\n",
       "      <th>TIPUS</th>\n",
       "      <th>INCIDENCIA</th>\n",
       "      <th>QUEIXA</th>\n",
       "    </tr>\n",
       "    <tr>\n",
       "      <th>MES_DATA_ALTA</th>\n",
       "      <th></th>\n",
       "      <th></th>\n",
       "    </tr>\n",
       "  </thead>\n",
       "  <tbody>\n",
       "    <tr>\n",
       "      <td>1</td>\n",
       "      <td>5232</td>\n",
       "      <td>1929</td>\n",
       "    </tr>\n",
       "    <tr>\n",
       "      <td>2</td>\n",
       "      <td>4678</td>\n",
       "      <td>2064</td>\n",
       "    </tr>\n",
       "    <tr>\n",
       "      <td>3</td>\n",
       "      <td>4549</td>\n",
       "      <td>1957</td>\n",
       "    </tr>\n",
       "    <tr>\n",
       "      <td>4</td>\n",
       "      <td>5033</td>\n",
       "      <td>2177</td>\n",
       "    </tr>\n",
       "    <tr>\n",
       "      <td>5</td>\n",
       "      <td>5335</td>\n",
       "      <td>2325</td>\n",
       "    </tr>\n",
       "    <tr>\n",
       "      <td>6</td>\n",
       "      <td>6413</td>\n",
       "      <td>2731</td>\n",
       "    </tr>\n",
       "    <tr>\n",
       "      <td>7</td>\n",
       "      <td>6574</td>\n",
       "      <td>3074</td>\n",
       "    </tr>\n",
       "    <tr>\n",
       "      <td>8</td>\n",
       "      <td>6130</td>\n",
       "      <td>2024</td>\n",
       "    </tr>\n",
       "    <tr>\n",
       "      <td>9</td>\n",
       "      <td>7870</td>\n",
       "      <td>3026</td>\n",
       "    </tr>\n",
       "    <tr>\n",
       "      <td>10</td>\n",
       "      <td>6250</td>\n",
       "      <td>2576</td>\n",
       "    </tr>\n",
       "    <tr>\n",
       "      <td>11</td>\n",
       "      <td>6314</td>\n",
       "      <td>2409</td>\n",
       "    </tr>\n",
       "    <tr>\n",
       "      <td>12</td>\n",
       "      <td>4846</td>\n",
       "      <td>1970</td>\n",
       "    </tr>\n",
       "  </tbody>\n",
       "</table>\n",
       "</div>"
      ],
      "text/plain": [
       "TIPUS          INCIDENCIA  QUEIXA\n",
       "MES_DATA_ALTA                    \n",
       "1                    5232    1929\n",
       "2                    4678    2064\n",
       "3                    4549    1957\n",
       "4                    5033    2177\n",
       "5                    5335    2325\n",
       "6                    6413    2731\n",
       "7                    6574    3074\n",
       "8                    6130    2024\n",
       "9                    7870    3026\n",
       "10                   6250    2576\n",
       "11                   6314    2409\n",
       "12                   4846    1970"
      ]
     },
     "execution_count": 35,
     "metadata": {},
     "output_type": "execute_result"
    }
   ],
   "source": [
    "pd_2016['freq'] = pd_2016.groupby('TIPUS')['TIPUS'].transform('count')\n",
    "pivot_mes = pd.pivot_table(pd_2016, 'freq', 'MES_DATA_ALTA', 'TIPUS', aggfunc='count')\n",
    "pivot_mes"
   ]
  },
  {
   "cell_type": "code",
   "execution_count": 36,
   "metadata": {},
   "outputs": [
    {
     "data": {
      "image/png": "[encoded data removed]",
      "text/plain": [
       "<Figure size 864x648 with 1 Axes>"
      ]
     },
     "metadata": {
      "needs_background": "light"
     },
     "output_type": "display_data"
    }
   ],
   "source": [
    "%matplotlib inline \n",
    "import matplotlib.pylab as plt\n",
    "\n",
    "plot1 = pivot_mes.plot(kind='bar',style='b', stacked =True, alpha=0.7,title = \"2016 Total Petitions per Month\", figsize=(12,9))\n",
    "plot1.legend(loc='center left', bbox_to_anchor=(1, 0.5))\n",
    "plt.savefig(\"T2015-Month.png\",dpi= 300, bbox_inches='tight')\n",
    "plt.show()"
   ]
  },
  {
   "cell_type": "code",
   "execution_count": 37,
   "metadata": {},
   "outputs": [],
   "source": [
    "pd_2017= pd_2017[(pd_2017['TIPUS']!='PETICIO DE SERVEI') & (pd_2017['TIPUS']!='SUGGERIMENT') & (pd_2017['TIPUS']!='AGRAIMENT') & (pd_2017['TIPUS']!='CONSULTA')]"
   ]
  },
  {
   "cell_type": "code",
   "execution_count": 38,
   "metadata": {},
   "outputs": [
    {
     "data": {
      "image/png": "[encoded data removed]",
      "text/plain": [
       "<Figure size 864x648 with 1 Axes>"
      ]
     },
     "metadata": {
      "needs_background": "light"
     },
     "output_type": "display_data"
    }
   ],
   "source": [
    "pd_2017['freq'] = pd_2017.groupby('TIPUS')['TIPUS'].transform('count')\n",
    "pivot_mes = pd.pivot_table(pd_2017, 'freq', 'MES_DATA_ALTA', 'TIPUS', aggfunc='count')\n",
    "pivot_mes\n",
    "\n",
    "plot1 = pivot_mes.plot(kind='bar',style='b', stacked =True, alpha=0.7,title = \"2017 Total Petitions per Month\", figsize=(12,9))\n",
    "plot1.legend(loc='center left', bbox_to_anchor=(1, 0.5))\n",
    "plt.savefig(\"2017-Month.png.png\",dpi= 300, bbox_inches='tight')\n",
    "plt.show()"
   ]
  },
  {
   "cell_type": "code",
   "execution_count": 39,
   "metadata": {},
   "outputs": [],
   "source": [
    "pd_2018= pd_2018[(pd_2018['TIPUS']!='PETICIO DE SERVEI') & (pd_2018['TIPUS']!='SUGGERIMENT') & (pd_2018['TIPUS']!='AGRAIMENT') & (pd_2018['TIPUS']!='CONSULTA')]"
   ]
  },
  {
   "cell_type": "code",
   "execution_count": 40,
   "metadata": {},
   "outputs": [
    {
     "data": {
      "image/png": "[encoded data removed]",
      "text/plain": [
       "<Figure size 864x648 with 1 Axes>"
      ]
     },
     "metadata": {
      "needs_background": "light"
     },
     "output_type": "display_data"
    }
   ],
   "source": [
    "pd_2018['freq'] = pd_2018.groupby('TIPUS')['TIPUS'].transform('count')\n",
    "pivot_mes = pd.pivot_table(pd_2018, 'freq', 'MES_DATA_ALTA', 'TIPUS', aggfunc='count')\n",
    "pivot_mes\n",
    "\n",
    "plot1 = pivot_mes.plot(kind='bar',style='b', stacked =True, alpha=0.7,title = \"2018 Total Petitions per Month\", figsize=(12,9))\n",
    "plot1.legend(loc='center left', bbox_to_anchor=(1, 0.5))\n",
    "plt.savefig(\"2018-Month.png\",dpi= 300, bbox_inches='tight')\n",
    "plt.show()\n"
   ]
  },
  {
   "cell_type": "code",
   "execution_count": 41,
   "metadata": {},
   "outputs": [
    {
     "name": "stderr",
     "output_type": "stream",
     "text": [
      "C:\\Users\\alex1\\Anaconda3\\lib\\site-packages\\ipykernel_launcher.py:1: UserWarning: Boolean Series key will be reindexed to match DataFrame index.\n",
      "  \"\"\"Entry point for launching an IPython kernel.\n"
     ]
    }
   ],
   "source": [
    "pd_2014= pd_2014[(pd_2015['TIPUS']!='PETICIO DE SERVEI') & (pd_2014['TIPUS']!='SUGGERIMENT') & (pd_2014['TIPUS']!='AGRAIMENT') & (pd_2014['TIPUS']!='CONSULTA')]"
   ]
  },
  {
   "cell_type": "code",
   "execution_count": 42,
   "metadata": {},
   "outputs": [
    {
     "data": {
      "image/png": "[encoded data removed]",
      "text/plain": [
       "<Figure size 864x648 with 1 Axes>"
      ]
     },
     "metadata": {
      "needs_background": "light"
     },
     "output_type": "display_data"
    }
   ],
   "source": [
    "pd_2014['freq'] = pd_2014.groupby('TIPUS')['TIPUS'].transform('count')\n",
    "pivot_mes = pd.pivot_table(pd_2014, 'freq', 'MES_DATA_ALTA', 'TIPUS', aggfunc='count')\n",
    "pivot_mes\n",
    "\n",
    "plot1 = pivot_mes.plot(kind='bar',style='b', stacked =True, alpha=0.7,title = \"2014 Total Petitions per Month\", figsize=(12,9))\n",
    "plot1.legend(loc='center left', bbox_to_anchor=(1, 0.5))\n",
    "plt.savefig(\"2014-Month.png\",dpi= 300, bbox_inches='tight')\n",
    "plt.show()\n"
   ]
  },
  {
   "cell_type": "markdown",
   "metadata": {},
   "source": [
    "## 2) Disctricte Analysis"
   ]
  },
  {
   "cell_type": "code",
   "execution_count": 40,
   "metadata": {},
   "outputs": [
    {
     "data": {
      "text/plain": [
       "Sant Martí             64775\n",
       "Eixample               53610\n",
       "Horta-Guinardó         48899\n",
       "Sants-Montjuïc         43682\n",
       "Nou Barris             40446\n",
       "Ciutat Vella           37819\n",
       "Sarrià-Sant Gervasi    36079\n",
       "Gràcia                 32136\n",
       "Sant Andreu            31536\n",
       "Les Corts              17776\n",
       "Name: DISTRICTE, dtype: int64"
      ]
     },
     "execution_count": 40,
     "metadata": {},
     "output_type": "execute_result"
    }
   ],
   "source": [
    "new_data['DISTRICTE'].value_counts()"
   ]
  },
  {
   "cell_type": "code",
   "execution_count": 43,
   "metadata": {},
   "outputs": [
    {
     "data": {
      "text/html": [
       "<div>\n",
       "<style scoped>\n",
       "    .dataframe tbody tr th:only-of-type {\n",
       "        vertical-align: middle;\n",
       "    }\n",
       "\n",
       "    .dataframe tbody tr th {\n",
       "        vertical-align: top;\n",
       "    }\n",
       "\n",
       "    .dataframe thead th {\n",
       "        text-align: right;\n",
       "    }\n",
       "</style>\n",
       "<table border=\"1\" class=\"dataframe\">\n",
       "  <thead>\n",
       "    <tr style=\"text-align: right;\">\n",
       "      <th>TIPUS</th>\n",
       "      <th>INCIDENCIA</th>\n",
       "      <th>QUEIXA</th>\n",
       "    </tr>\n",
       "    <tr>\n",
       "      <th>DISTRICTE</th>\n",
       "      <th></th>\n",
       "      <th></th>\n",
       "    </tr>\n",
       "  </thead>\n",
       "  <tbody>\n",
       "    <tr>\n",
       "      <td>Ciutat Vella</td>\n",
       "      <td>29232</td>\n",
       "      <td>5344</td>\n",
       "    </tr>\n",
       "    <tr>\n",
       "      <td>Eixample</td>\n",
       "      <td>39579</td>\n",
       "      <td>7702</td>\n",
       "    </tr>\n",
       "    <tr>\n",
       "      <td>Gràcia</td>\n",
       "      <td>23392</td>\n",
       "      <td>4701</td>\n",
       "    </tr>\n",
       "    <tr>\n",
       "      <td>Horta-Guinardó</td>\n",
       "      <td>38518</td>\n",
       "      <td>5808</td>\n",
       "    </tr>\n",
       "    <tr>\n",
       "      <td>Les Corts</td>\n",
       "      <td>13350</td>\n",
       "      <td>2011</td>\n",
       "    </tr>\n",
       "    <tr>\n",
       "      <td>Nou Barris</td>\n",
       "      <td>32834</td>\n",
       "      <td>4339</td>\n",
       "    </tr>\n",
       "    <tr>\n",
       "      <td>Sant Andreu</td>\n",
       "      <td>24319</td>\n",
       "      <td>4281</td>\n",
       "    </tr>\n",
       "    <tr>\n",
       "      <td>Sant Martí</td>\n",
       "      <td>51155</td>\n",
       "      <td>7453</td>\n",
       "    </tr>\n",
       "    <tr>\n",
       "      <td>Sants-Montjuïc</td>\n",
       "      <td>32846</td>\n",
       "      <td>5840</td>\n",
       "    </tr>\n",
       "    <tr>\n",
       "      <td>Sarrià-Sant Gervasi</td>\n",
       "      <td>25234</td>\n",
       "      <td>5100</td>\n",
       "    </tr>\n",
       "  </tbody>\n",
       "</table>\n",
       "</div>"
      ],
      "text/plain": [
       "TIPUS                INCIDENCIA  QUEIXA\n",
       "DISTRICTE                              \n",
       "Ciutat Vella              29232    5344\n",
       "Eixample                  39579    7702\n",
       "Gràcia                    23392    4701\n",
       "Horta-Guinardó            38518    5808\n",
       "Les Corts                 13350    2011\n",
       "Nou Barris                32834    4339\n",
       "Sant Andreu               24319    4281\n",
       "Sant Martí                51155    7453\n",
       "Sants-Montjuïc            32846    5840\n",
       "Sarrià-Sant Gervasi       25234    5100"
      ]
     },
     "execution_count": 43,
     "metadata": {},
     "output_type": "execute_result"
    }
   ],
   "source": [
    "pivot_disctricte = pd.pivot_table(new_data_3, 'freq', 'DISTRICTE', 'TIPUS', aggfunc='count')\n",
    "pivot_disctricte"
   ]
  },
  {
   "cell_type": "code",
   "execution_count": 44,
   "metadata": {},
   "outputs": [
    {
     "data": {
      "image/png": "[encoded data removed]",
      "text/plain": [
       "<Figure size 1080x576 with 1 Axes>"
      ]
     },
     "metadata": {
      "needs_background": "light"
     },
     "output_type": "display_data"
    }
   ],
   "source": [
    "my_colors = ['r', 'b', 'grey', 'gold', 'g','c'] \n",
    "ax = pivot_disctricte.plot(kind='barh',stacked=True, color=my_colors,figsize=(15, 8), grid=True)\n",
    "ax.legend(loc='center left', bbox_to_anchor=(1, 0.5)) \n",
    "#plt.savefig(\"Value_Time_Country.png\",dpi= 300, bbox_inches='tight')\n",
    "plt.show()"
   ]
  },
  {
   "cell_type": "code",
   "execution_count": 46,
   "metadata": {},
   "outputs": [
    {
     "name": "stderr",
     "output_type": "stream",
     "text": [
      "C:\\Users\\alex1\\Anaconda3\\lib\\site-packages\\ipykernel_launcher.py:1: SettingWithCopyWarning: \n",
      "A value is trying to be set on a copy of a slice from a DataFrame.\n",
      "Try using .loc[row_indexer,col_indexer] = value instead\n",
      "\n",
      "See the caveats in the documentation: http://pandas.pydata.org/pandas-docs/stable/user_guide/indexing.html#returning-a-view-versus-a-copy\n",
      "  \"\"\"Entry point for launching an IPython kernel.\n"
     ]
    },
    {
     "data": {
      "text/html": [
       "<div>\n",
       "<style scoped>\n",
       "    .dataframe tbody tr th:only-of-type {\n",
       "        vertical-align: middle;\n",
       "    }\n",
       "\n",
       "    .dataframe tbody tr th {\n",
       "        vertical-align: top;\n",
       "    }\n",
       "\n",
       "    .dataframe thead th {\n",
       "        text-align: right;\n",
       "    }\n",
       "</style>\n",
       "<table border=\"1\" class=\"dataframe\">\n",
       "  <thead>\n",
       "    <tr style=\"text-align: right;\">\n",
       "      <th>ELEMENT</th>\n",
       "      <th>Altres obres a la via pública</th>\n",
       "      <th>Arbrat</th>\n",
       "      <th>Ascensors urbans</th>\n",
       "      <th>Autobusos TMB</th>\n",
       "      <th>Bancs</th>\n",
       "      <th>Baranes</th>\n",
       "      <th>Bicicletes</th>\n",
       "      <th>Calçada</th>\n",
       "      <th>Clavegueram</th>\n",
       "      <th>Elements esportius  / lleure espai obert</th>\n",
       "      <th>...</th>\n",
       "      <th>Servei de vigilància i control de plagues</th>\n",
       "      <th>Superilles a la ciutat</th>\n",
       "      <th>Tanca</th>\n",
       "      <th>Trànsit</th>\n",
       "      <th>Túnels</th>\n",
       "      <th>Vehicles a motor</th>\n",
       "      <th>Voreres</th>\n",
       "      <th>Xarxa elèctrica / comunicacions privada</th>\n",
       "      <th>Zona bus</th>\n",
       "      <th>Zona gossos</th>\n",
       "    </tr>\n",
       "    <tr>\n",
       "      <th>DISTRICTE</th>\n",
       "      <th></th>\n",
       "      <th></th>\n",
       "      <th></th>\n",
       "      <th></th>\n",
       "      <th></th>\n",
       "      <th></th>\n",
       "      <th></th>\n",
       "      <th></th>\n",
       "      <th></th>\n",
       "      <th></th>\n",
       "      <th></th>\n",
       "      <th></th>\n",
       "      <th></th>\n",
       "      <th></th>\n",
       "      <th></th>\n",
       "      <th></th>\n",
       "      <th></th>\n",
       "      <th></th>\n",
       "      <th></th>\n",
       "      <th></th>\n",
       "      <th></th>\n",
       "    </tr>\n",
       "  </thead>\n",
       "  <tbody>\n",
       "    <tr>\n",
       "      <td>Ciutat Vella</td>\n",
       "      <td>549.0</td>\n",
       "      <td>1474.0</td>\n",
       "      <td>2.0</td>\n",
       "      <td>58.0</td>\n",
       "      <td>184.0</td>\n",
       "      <td>35.0</td>\n",
       "      <td>483.0</td>\n",
       "      <td>312.0</td>\n",
       "      <td>796.0</td>\n",
       "      <td>41.0</td>\n",
       "      <td>...</td>\n",
       "      <td>1534.0</td>\n",
       "      <td>3.0</td>\n",
       "      <td>214.0</td>\n",
       "      <td>38.0</td>\n",
       "      <td>NaN</td>\n",
       "      <td>335.0</td>\n",
       "      <td>2103.0</td>\n",
       "      <td>130.0</td>\n",
       "      <td>3.0</td>\n",
       "      <td>104.0</td>\n",
       "    </tr>\n",
       "    <tr>\n",
       "      <td>Eixample</td>\n",
       "      <td>955.0</td>\n",
       "      <td>3616.0</td>\n",
       "      <td>12.0</td>\n",
       "      <td>222.0</td>\n",
       "      <td>259.0</td>\n",
       "      <td>57.0</td>\n",
       "      <td>1174.0</td>\n",
       "      <td>797.0</td>\n",
       "      <td>610.0</td>\n",
       "      <td>30.0</td>\n",
       "      <td>...</td>\n",
       "      <td>2246.0</td>\n",
       "      <td>42.0</td>\n",
       "      <td>241.0</td>\n",
       "      <td>116.0</td>\n",
       "      <td>2.0</td>\n",
       "      <td>1324.0</td>\n",
       "      <td>4166.0</td>\n",
       "      <td>197.0</td>\n",
       "      <td>38.0</td>\n",
       "      <td>533.0</td>\n",
       "    </tr>\n",
       "    <tr>\n",
       "      <td>Gràcia</td>\n",
       "      <td>822.0</td>\n",
       "      <td>2405.0</td>\n",
       "      <td>7.0</td>\n",
       "      <td>87.0</td>\n",
       "      <td>220.0</td>\n",
       "      <td>92.0</td>\n",
       "      <td>300.0</td>\n",
       "      <td>438.0</td>\n",
       "      <td>387.0</td>\n",
       "      <td>38.0</td>\n",
       "      <td>...</td>\n",
       "      <td>1192.0</td>\n",
       "      <td>5.0</td>\n",
       "      <td>175.0</td>\n",
       "      <td>72.0</td>\n",
       "      <td>3.0</td>\n",
       "      <td>1032.0</td>\n",
       "      <td>1880.0</td>\n",
       "      <td>179.0</td>\n",
       "      <td>5.0</td>\n",
       "      <td>275.0</td>\n",
       "    </tr>\n",
       "    <tr>\n",
       "      <td>Horta-Guinardó</td>\n",
       "      <td>613.0</td>\n",
       "      <td>3986.0</td>\n",
       "      <td>1869.0</td>\n",
       "      <td>122.0</td>\n",
       "      <td>333.0</td>\n",
       "      <td>252.0</td>\n",
       "      <td>162.0</td>\n",
       "      <td>575.0</td>\n",
       "      <td>497.0</td>\n",
       "      <td>70.0</td>\n",
       "      <td>...</td>\n",
       "      <td>1733.0</td>\n",
       "      <td>2.0</td>\n",
       "      <td>129.0</td>\n",
       "      <td>68.0</td>\n",
       "      <td>27.0</td>\n",
       "      <td>2392.0</td>\n",
       "      <td>2948.0</td>\n",
       "      <td>266.0</td>\n",
       "      <td>4.0</td>\n",
       "      <td>331.0</td>\n",
       "    </tr>\n",
       "    <tr>\n",
       "      <td>Les Corts</td>\n",
       "      <td>343.0</td>\n",
       "      <td>1962.0</td>\n",
       "      <td>4.0</td>\n",
       "      <td>73.0</td>\n",
       "      <td>132.0</td>\n",
       "      <td>22.0</td>\n",
       "      <td>126.0</td>\n",
       "      <td>182.0</td>\n",
       "      <td>221.0</td>\n",
       "      <td>17.0</td>\n",
       "      <td>...</td>\n",
       "      <td>906.0</td>\n",
       "      <td>3.0</td>\n",
       "      <td>68.0</td>\n",
       "      <td>36.0</td>\n",
       "      <td>6.0</td>\n",
       "      <td>690.0</td>\n",
       "      <td>1550.0</td>\n",
       "      <td>61.0</td>\n",
       "      <td>NaN</td>\n",
       "      <td>228.0</td>\n",
       "    </tr>\n",
       "    <tr>\n",
       "      <td>Nou Barris</td>\n",
       "      <td>525.0</td>\n",
       "      <td>4246.0</td>\n",
       "      <td>1151.0</td>\n",
       "      <td>122.0</td>\n",
       "      <td>398.0</td>\n",
       "      <td>233.0</td>\n",
       "      <td>125.0</td>\n",
       "      <td>256.0</td>\n",
       "      <td>500.0</td>\n",
       "      <td>42.0</td>\n",
       "      <td>...</td>\n",
       "      <td>2036.0</td>\n",
       "      <td>NaN</td>\n",
       "      <td>107.0</td>\n",
       "      <td>37.0</td>\n",
       "      <td>4.0</td>\n",
       "      <td>1514.0</td>\n",
       "      <td>2666.0</td>\n",
       "      <td>154.0</td>\n",
       "      <td>NaN</td>\n",
       "      <td>246.0</td>\n",
       "    </tr>\n",
       "    <tr>\n",
       "      <td>Sant Andreu</td>\n",
       "      <td>503.0</td>\n",
       "      <td>3807.0</td>\n",
       "      <td>189.0</td>\n",
       "      <td>68.0</td>\n",
       "      <td>254.0</td>\n",
       "      <td>57.0</td>\n",
       "      <td>179.0</td>\n",
       "      <td>231.0</td>\n",
       "      <td>351.0</td>\n",
       "      <td>52.0</td>\n",
       "      <td>...</td>\n",
       "      <td>1530.0</td>\n",
       "      <td>1.0</td>\n",
       "      <td>118.0</td>\n",
       "      <td>23.0</td>\n",
       "      <td>1.0</td>\n",
       "      <td>806.0</td>\n",
       "      <td>2259.0</td>\n",
       "      <td>70.0</td>\n",
       "      <td>NaN</td>\n",
       "      <td>214.0</td>\n",
       "    </tr>\n",
       "    <tr>\n",
       "      <td>Sant Martí</td>\n",
       "      <td>866.0</td>\n",
       "      <td>9082.0</td>\n",
       "      <td>17.0</td>\n",
       "      <td>219.0</td>\n",
       "      <td>516.0</td>\n",
       "      <td>147.0</td>\n",
       "      <td>585.0</td>\n",
       "      <td>600.0</td>\n",
       "      <td>882.0</td>\n",
       "      <td>119.0</td>\n",
       "      <td>...</td>\n",
       "      <td>3154.0</td>\n",
       "      <td>161.0</td>\n",
       "      <td>270.0</td>\n",
       "      <td>72.0</td>\n",
       "      <td>NaN</td>\n",
       "      <td>2051.0</td>\n",
       "      <td>4746.0</td>\n",
       "      <td>142.0</td>\n",
       "      <td>1.0</td>\n",
       "      <td>675.0</td>\n",
       "    </tr>\n",
       "    <tr>\n",
       "      <td>Sants-Montjuïc</td>\n",
       "      <td>788.0</td>\n",
       "      <td>3750.0</td>\n",
       "      <td>301.0</td>\n",
       "      <td>90.0</td>\n",
       "      <td>324.0</td>\n",
       "      <td>162.0</td>\n",
       "      <td>342.0</td>\n",
       "      <td>678.0</td>\n",
       "      <td>675.0</td>\n",
       "      <td>50.0</td>\n",
       "      <td>...</td>\n",
       "      <td>1808.0</td>\n",
       "      <td>5.0</td>\n",
       "      <td>171.0</td>\n",
       "      <td>61.0</td>\n",
       "      <td>9.0</td>\n",
       "      <td>1138.0</td>\n",
       "      <td>2830.0</td>\n",
       "      <td>128.0</td>\n",
       "      <td>4.0</td>\n",
       "      <td>293.0</td>\n",
       "    </tr>\n",
       "    <tr>\n",
       "      <td>Sarrià-Sant Gervasi</td>\n",
       "      <td>894.0</td>\n",
       "      <td>2495.0</td>\n",
       "      <td>66.0</td>\n",
       "      <td>90.0</td>\n",
       "      <td>173.0</td>\n",
       "      <td>96.0</td>\n",
       "      <td>206.0</td>\n",
       "      <td>519.0</td>\n",
       "      <td>492.0</td>\n",
       "      <td>29.0</td>\n",
       "      <td>...</td>\n",
       "      <td>1366.0</td>\n",
       "      <td>3.0</td>\n",
       "      <td>107.0</td>\n",
       "      <td>46.0</td>\n",
       "      <td>3.0</td>\n",
       "      <td>1399.0</td>\n",
       "      <td>2870.0</td>\n",
       "      <td>222.0</td>\n",
       "      <td>NaN</td>\n",
       "      <td>455.0</td>\n",
       "    </tr>\n",
       "  </tbody>\n",
       "</table>\n",
       "<p>10 rows × 77 columns</p>\n",
       "</div>"
      ],
      "text/plain": [
       "ELEMENT              Altres obres a la via pública  Arbrat  Ascensors urbans  \\\n",
       "DISTRICTE                                                                      \n",
       "Ciutat Vella                                 549.0  1474.0               2.0   \n",
       "Eixample                                     955.0  3616.0              12.0   \n",
       "Gràcia                                       822.0  2405.0               7.0   \n",
       "Horta-Guinardó                               613.0  3986.0            1869.0   \n",
       "Les Corts                                    343.0  1962.0               4.0   \n",
       "Nou Barris                                   525.0  4246.0            1151.0   \n",
       "Sant Andreu                                  503.0  3807.0             189.0   \n",
       "Sant Martí                                   866.0  9082.0              17.0   \n",
       "Sants-Montjuïc                               788.0  3750.0             301.0   \n",
       "Sarrià-Sant Gervasi                          894.0  2495.0              66.0   \n",
       "\n",
       "ELEMENT              Autobusos TMB  Bancs  Baranes  Bicicletes  Calçada  \\\n",
       "DISTRICTE                                                                 \n",
       "Ciutat Vella                  58.0  184.0     35.0       483.0    312.0   \n",
       "Eixample                     222.0  259.0     57.0      1174.0    797.0   \n",
       "Gràcia                        87.0  220.0     92.0       300.0    438.0   \n",
       "Horta-Guinardó               122.0  333.0    252.0       162.0    575.0   \n",
       "Les Corts                     73.0  132.0     22.0       126.0    182.0   \n",
       "Nou Barris                   122.0  398.0    233.0       125.0    256.0   \n",
       "Sant Andreu                   68.0  254.0     57.0       179.0    231.0   \n",
       "Sant Martí                   219.0  516.0    147.0       585.0    600.0   \n",
       "Sants-Montjuïc                90.0  324.0    162.0       342.0    678.0   \n",
       "Sarrià-Sant Gervasi           90.0  173.0     96.0       206.0    519.0   \n",
       "\n",
       "ELEMENT              Clavegueram  Elements esportius  / lleure espai obert  \\\n",
       "DISTRICTE                                                                    \n",
       "Ciutat Vella               796.0                                      41.0   \n",
       "Eixample                   610.0                                      30.0   \n",
       "Gràcia                     387.0                                      38.0   \n",
       "Horta-Guinardó             497.0                                      70.0   \n",
       "Les Corts                  221.0                                      17.0   \n",
       "Nou Barris                 500.0                                      42.0   \n",
       "Sant Andreu                351.0                                      52.0   \n",
       "Sant Martí                 882.0                                     119.0   \n",
       "Sants-Montjuïc             675.0                                      50.0   \n",
       "Sarrià-Sant Gervasi        492.0                                      29.0   \n",
       "\n",
       "ELEMENT              ...  Servei de vigilància i control de plagues  \\\n",
       "DISTRICTE            ...                                              \n",
       "Ciutat Vella         ...                                     1534.0   \n",
       "Eixample             ...                                     2246.0   \n",
       "Gràcia               ...                                     1192.0   \n",
       "Horta-Guinardó       ...                                     1733.0   \n",
       "Les Corts            ...                                      906.0   \n",
       "Nou Barris           ...                                     2036.0   \n",
       "Sant Andreu          ...                                     1530.0   \n",
       "Sant Martí           ...                                     3154.0   \n",
       "Sants-Montjuïc       ...                                     1808.0   \n",
       "Sarrià-Sant Gervasi  ...                                     1366.0   \n",
       "\n",
       "ELEMENT              Superilles a la ciutat  Tanca  Trànsit  Túnels  \\\n",
       "DISTRICTE                                                             \n",
       "Ciutat Vella                            3.0  214.0     38.0     NaN   \n",
       "Eixample                               42.0  241.0    116.0     2.0   \n",
       "Gràcia                                  5.0  175.0     72.0     3.0   \n",
       "Horta-Guinardó                          2.0  129.0     68.0    27.0   \n",
       "Les Corts                               3.0   68.0     36.0     6.0   \n",
       "Nou Barris                              NaN  107.0     37.0     4.0   \n",
       "Sant Andreu                             1.0  118.0     23.0     1.0   \n",
       "Sant Martí                            161.0  270.0     72.0     NaN   \n",
       "Sants-Montjuïc                          5.0  171.0     61.0     9.0   \n",
       "Sarrià-Sant Gervasi                     3.0  107.0     46.0     3.0   \n",
       "\n",
       "ELEMENT              Vehicles a motor  Voreres  \\\n",
       "DISTRICTE                                        \n",
       "Ciutat Vella                    335.0   2103.0   \n",
       "Eixample                       1324.0   4166.0   \n",
       "Gràcia                         1032.0   1880.0   \n",
       "Horta-Guinardó                 2392.0   2948.0   \n",
       "Les Corts                       690.0   1550.0   \n",
       "Nou Barris                     1514.0   2666.0   \n",
       "Sant Andreu                     806.0   2259.0   \n",
       "Sant Martí                     2051.0   4746.0   \n",
       "Sants-Montjuïc                 1138.0   2830.0   \n",
       "Sarrià-Sant Gervasi            1399.0   2870.0   \n",
       "\n",
       "ELEMENT              Xarxa elèctrica / comunicacions privada  Zona bus  \\\n",
       "DISTRICTE                                                                \n",
       "Ciutat Vella                                           130.0       3.0   \n",
       "Eixample                                               197.0      38.0   \n",
       "Gràcia                                                 179.0       5.0   \n",
       "Horta-Guinardó                                         266.0       4.0   \n",
       "Les Corts                                               61.0       NaN   \n",
       "Nou Barris                                             154.0       NaN   \n",
       "Sant Andreu                                             70.0       NaN   \n",
       "Sant Martí                                             142.0       1.0   \n",
       "Sants-Montjuïc                                         128.0       4.0   \n",
       "Sarrià-Sant Gervasi                                    222.0       NaN   \n",
       "\n",
       "ELEMENT              Zona gossos  \n",
       "DISTRICTE                         \n",
       "Ciutat Vella               104.0  \n",
       "Eixample                   533.0  \n",
       "Gràcia                     275.0  \n",
       "Horta-Guinardó             331.0  \n",
       "Les Corts                  228.0  \n",
       "Nou Barris                 246.0  \n",
       "Sant Andreu                214.0  \n",
       "Sant Martí                 675.0  \n",
       "Sants-Montjuïc             293.0  \n",
       "Sarrià-Sant Gervasi        455.0  \n",
       "\n",
       "[10 rows x 77 columns]"
      ]
     },
     "execution_count": 46,
     "metadata": {},
     "output_type": "execute_result"
    }
   ],
   "source": [
    "new_data_3['freq2'] = new_data_3.groupby('ELEMENT')['ELEMENT'].transform('count')\n",
    "pivot_disctricte2 = pd.pivot_table(new_data_3, 'freq2', 'DISTRICTE', 'ELEMENT', aggfunc='count')\n",
    "pivot_disctricte2"
   ]
  },
  {
   "cell_type": "markdown",
   "metadata": {},
   "source": [
    "## 3) Area Analysis"
   ]
  },
  {
   "cell_type": "code",
   "execution_count": 49,
   "metadata": {},
   "outputs": [],
   "source": [
    "new_data = new_data_3"
   ]
  },
  {
   "cell_type": "code",
   "execution_count": 50,
   "metadata": {},
   "outputs": [
    {
     "data": {
      "text/plain": [
       "Manteniment de l'espai urbà                 172006\n",
       "Recollida i neteja de l'espai urbà          134993\n",
       "Sanitat i salut pública                      20037\n",
       "Mobilitat                                    19016\n",
       "Urbanisme, obres i habitatge                  7954\n",
       "Prevenció i seguretat                         6684\n",
       "Transports públics                            1151\n",
       "Nadal                                          667\n",
       "Informació, tràmits i atenció al ciutadà       530\n",
       "Name: AREA, dtype: int64"
      ]
     },
     "execution_count": 50,
     "metadata": {},
     "output_type": "execute_result"
    }
   ],
   "source": [
    "new_data_3['AREA'].value_counts()"
   ]
  },
  {
   "cell_type": "code",
   "execution_count": 51,
   "metadata": {},
   "outputs": [
    {
     "name": "stderr",
     "output_type": "stream",
     "text": [
      "C:\\Users\\alex1\\Anaconda3\\lib\\site-packages\\ipykernel_launcher.py:1: SettingWithCopyWarning: \n",
      "A value is trying to be set on a copy of a slice from a DataFrame.\n",
      "Try using .loc[row_indexer,col_indexer] = value instead\n",
      "\n",
      "See the caveats in the documentation: http://pandas.pydata.org/pandas-docs/stable/user_guide/indexing.html#returning-a-view-versus-a-copy\n",
      "  \"\"\"Entry point for launching an IPython kernel.\n"
     ]
    },
    {
     "data": {
      "text/html": [
       "<div>\n",
       "<style scoped>\n",
       "    .dataframe tbody tr th:only-of-type {\n",
       "        vertical-align: middle;\n",
       "    }\n",
       "\n",
       "    .dataframe tbody tr th {\n",
       "        vertical-align: top;\n",
       "    }\n",
       "\n",
       "    .dataframe thead th {\n",
       "        text-align: right;\n",
       "    }\n",
       "</style>\n",
       "<table border=\"1\" class=\"dataframe\">\n",
       "  <thead>\n",
       "    <tr style=\"text-align: right;\">\n",
       "      <th>AREA</th>\n",
       "      <th>Informació, tràmits i atenció al ciutadà</th>\n",
       "      <th>Manteniment de l'espai urbà</th>\n",
       "      <th>Mobilitat</th>\n",
       "      <th>Nadal</th>\n",
       "      <th>Prevenció i seguretat</th>\n",
       "      <th>Recollida i neteja de l'espai urbà</th>\n",
       "      <th>Sanitat i salut pública</th>\n",
       "      <th>Transports públics</th>\n",
       "      <th>Urbanisme, obres i habitatge</th>\n",
       "    </tr>\n",
       "    <tr>\n",
       "      <th>ANY_DATA_ALTA</th>\n",
       "      <th></th>\n",
       "      <th></th>\n",
       "      <th></th>\n",
       "      <th></th>\n",
       "      <th></th>\n",
       "      <th></th>\n",
       "      <th></th>\n",
       "      <th></th>\n",
       "      <th></th>\n",
       "    </tr>\n",
       "  </thead>\n",
       "  <tbody>\n",
       "    <tr>\n",
       "      <td>2013</td>\n",
       "      <td>NaN</td>\n",
       "      <td>397.0</td>\n",
       "      <td>85.0</td>\n",
       "      <td>3.0</td>\n",
       "      <td>22.0</td>\n",
       "      <td>241.0</td>\n",
       "      <td>77.0</td>\n",
       "      <td>30.0</td>\n",
       "      <td>82.0</td>\n",
       "    </tr>\n",
       "    <tr>\n",
       "      <td>2014</td>\n",
       "      <td>51.0</td>\n",
       "      <td>27283.0</td>\n",
       "      <td>3244.0</td>\n",
       "      <td>142.0</td>\n",
       "      <td>1246.0</td>\n",
       "      <td>20803.0</td>\n",
       "      <td>3075.0</td>\n",
       "      <td>190.0</td>\n",
       "      <td>1585.0</td>\n",
       "    </tr>\n",
       "    <tr>\n",
       "      <td>2015</td>\n",
       "      <td>58.0</td>\n",
       "      <td>32053.0</td>\n",
       "      <td>3460.0</td>\n",
       "      <td>112.0</td>\n",
       "      <td>1139.0</td>\n",
       "      <td>23021.0</td>\n",
       "      <td>3180.0</td>\n",
       "      <td>146.0</td>\n",
       "      <td>1530.0</td>\n",
       "    </tr>\n",
       "    <tr>\n",
       "      <td>2016</td>\n",
       "      <td>145.0</td>\n",
       "      <td>31504.0</td>\n",
       "      <td>3735.0</td>\n",
       "      <td>128.0</td>\n",
       "      <td>1368.0</td>\n",
       "      <td>24553.0</td>\n",
       "      <td>3933.0</td>\n",
       "      <td>291.0</td>\n",
       "      <td>1393.0</td>\n",
       "    </tr>\n",
       "    <tr>\n",
       "      <td>2017</td>\n",
       "      <td>159.0</td>\n",
       "      <td>36775.0</td>\n",
       "      <td>3916.0</td>\n",
       "      <td>159.0</td>\n",
       "      <td>1451.0</td>\n",
       "      <td>28339.0</td>\n",
       "      <td>4134.0</td>\n",
       "      <td>287.0</td>\n",
       "      <td>1478.0</td>\n",
       "    </tr>\n",
       "    <tr>\n",
       "      <td>2018</td>\n",
       "      <td>117.0</td>\n",
       "      <td>43994.0</td>\n",
       "      <td>4576.0</td>\n",
       "      <td>123.0</td>\n",
       "      <td>1458.0</td>\n",
       "      <td>38036.0</td>\n",
       "      <td>5638.0</td>\n",
       "      <td>207.0</td>\n",
       "      <td>1886.0</td>\n",
       "    </tr>\n",
       "  </tbody>\n",
       "</table>\n",
       "</div>"
      ],
      "text/plain": [
       "AREA           Informació, tràmits i atenció al ciutadà  \\\n",
       "ANY_DATA_ALTA                                             \n",
       "2013                                                NaN   \n",
       "2014                                               51.0   \n",
       "2015                                               58.0   \n",
       "2016                                              145.0   \n",
       "2017                                              159.0   \n",
       "2018                                              117.0   \n",
       "\n",
       "AREA           Manteniment de l'espai urbà  Mobilitat  Nadal  \\\n",
       "ANY_DATA_ALTA                                                  \n",
       "2013                                 397.0       85.0    3.0   \n",
       "2014                               27283.0     3244.0  142.0   \n",
       "2015                               32053.0     3460.0  112.0   \n",
       "2016                               31504.0     3735.0  128.0   \n",
       "2017                               36775.0     3916.0  159.0   \n",
       "2018                               43994.0     4576.0  123.0   \n",
       "\n",
       "AREA           Prevenció i seguretat  Recollida i neteja de l'espai urbà  \\\n",
       "ANY_DATA_ALTA                                                              \n",
       "2013                            22.0                               241.0   \n",
       "2014                          1246.0                             20803.0   \n",
       "2015                          1139.0                             23021.0   \n",
       "2016                          1368.0                             24553.0   \n",
       "2017                          1451.0                             28339.0   \n",
       "2018                          1458.0                             38036.0   \n",
       "\n",
       "AREA           Sanitat i salut pública  Transports públics  \\\n",
       "ANY_DATA_ALTA                                                \n",
       "2013                              77.0                30.0   \n",
       "2014                            3075.0               190.0   \n",
       "2015                            3180.0               146.0   \n",
       "2016                            3933.0               291.0   \n",
       "2017                            4134.0               287.0   \n",
       "2018                            5638.0               207.0   \n",
       "\n",
       "AREA           Urbanisme, obres i habitatge  \n",
       "ANY_DATA_ALTA                                \n",
       "2013                                   82.0  \n",
       "2014                                 1585.0  \n",
       "2015                                 1530.0  \n",
       "2016                                 1393.0  \n",
       "2017                                 1478.0  \n",
       "2018                                 1886.0  "
      ]
     },
     "execution_count": 51,
     "metadata": {},
     "output_type": "execute_result"
    }
   ],
   "source": [
    "new_data['freq3'] = new_data.groupby('AREA')['AREA'].transform('count')\n",
    "pivot_any3 = pd.pivot_table(new_data, 'freq3', 'ANY_DATA_ALTA', 'AREA', aggfunc='count')\n",
    "pivot_any3"
   ]
  },
  {
   "cell_type": "code",
   "execution_count": 52,
   "metadata": {},
   "outputs": [
    {
     "data": {
      "image/png": "[encoded data removed]",
      "text/plain": [
       "<Figure size 864x648 with 1 Axes>"
      ]
     },
     "metadata": {
      "needs_background": "light"
     },
     "output_type": "display_data"
    }
   ],
   "source": [
    "%matplotlib inline \n",
    "import matplotlib.pylab as plt\n",
    "\n",
    "plot1 = pivot_any3.plot(kind='bar',style='b', stacked =True, alpha=0.7,title = \"Total Petitions per Year\", figsize=(12,9))\n",
    "plot1.legend(loc='center left', bbox_to_anchor=(1, 0.5))\n",
    "#plt.savefig(\"Totalvalue_Country.png\",dpi= 300, bbox_inches='tight')\n",
    "plt.show()"
   ]
  },
  {
   "cell_type": "markdown",
   "metadata": {},
   "source": [
    "## 4) Element Analysis"
   ]
  },
  {
   "cell_type": "code",
   "execution_count": 53,
   "metadata": {},
   "outputs": [
    {
     "data": {
      "text/plain": [
       "Neteja carrers i/o places                    68615\n",
       "Arbrat                                       36823\n",
       "Voreres                                      28018\n",
       "Enllumenat públic                            27098\n",
       "Servei de vigilància i control de plagues    17505\n",
       "                                             ...  \n",
       "Escales al carrer                               60\n",
       "Senyalitzacions                                 56\n",
       "Túnels                                          55\n",
       "Zona bus                                        55\n",
       "Obres metro (línies 3, 5 i 9)                   51\n",
       "Name: ELEMENT, Length: 77, dtype: int64"
      ]
     },
     "execution_count": 53,
     "metadata": {},
     "output_type": "execute_result"
    }
   ],
   "source": [
    "new_data['ELEMENT'].value_counts()"
   ]
  },
  {
   "cell_type": "markdown",
   "metadata": {},
   "source": [
    "## 5) Detall Analysis"
   ]
  },
  {
   "cell_type": "code",
   "execution_count": 54,
   "metadata": {},
   "outputs": [
    {
     "data": {
      "text/plain": [
       "Objectes a netejar / retirar                                 34732\n",
       "Vorera incidències                                           23438\n",
       "Enllumenat incidències                                       21971\n",
       "Disconforme servei de neteja carrers / places                14041\n",
       "Arbrat tractament plaga o malura                             10586\n",
       "                                                             ...  \n",
       "Zona bus plataforma logística park güell                         2\n",
       "Incidències nous encaminadors per a invidents parades bus        2\n",
       "Zona gossos incidències (ús APP)                                 1\n",
       "Aparcament i carril bici incidències (ús app)                    1\n",
       "Incidències passadís de goma parades bus invidents               1\n",
       "Name: DETALL, Length: 245, dtype: int64"
      ]
     },
     "execution_count": 54,
     "metadata": {},
     "output_type": "execute_result"
    }
   ],
   "source": [
    "new_data['DETALL'].value_counts()"
   ]
  },
  {
   "cell_type": "markdown",
   "metadata": {},
   "source": [
    "## 6) Barri Analysis"
   ]
  },
  {
   "cell_type": "code",
   "execution_count": 20,
   "metadata": {},
   "outputs": [
    {
     "data": {
      "text/plain": [
       "la Vila de Gràcia             14519\n",
       "la Dreta de l'Eixample        14163\n",
       "el Raval                      13713\n",
       "Sant Andreu                   12651\n",
       "Sants                         11870\n",
       "                              ...  \n",
       "la Marina del Prat Vermell      905\n",
       "Vallbona                        720\n",
       "Baró de Viver                   646\n",
       "la Clota                        487\n",
       "el Poble-Sec                      3\n",
       "Name: BARRI, Length: 75, dtype: int64"
      ]
     },
     "execution_count": 20,
     "metadata": {},
     "output_type": "execute_result"
    }
   ],
   "source": [
    "new_data['BARRI'].value_counts()"
   ]
  },
  {
   "cell_type": "markdown",
   "metadata": {},
   "source": [
    "## 7) Tipus Via Analysis"
   ]
  },
  {
   "cell_type": "code",
   "execution_count": 21,
   "metadata": {},
   "outputs": [
    {
     "data": {
      "text/plain": [
       "Carrer                      305365\n",
       "Avinguda                     27061\n",
       "Plaça                        25448\n",
       "Passeig                      20238\n",
       "Rambla                        9365\n",
       "Passatge                      8233\n",
       "Gran Via                      6888\n",
       "Via                           4870\n",
       "Jardins                       4751\n",
       "Ronda                         4350\n",
       "Travessera                    3396\n",
       "Parc                          3249\n",
       "Carretera                     2205\n",
       "Camí                          1438\n",
       "Baixada                       1345\n",
       "Riera                          673\n",
       "Platja                         517\n",
       "Torrent                        507\n",
       "Pla                            385\n",
       "Placeta                        346\n",
       "Pas                            224\n",
       "Escales                        141\n",
       "Entitat Autoidentificant       105\n",
       "Jardí                           80\n",
       "Travessia                       75\n",
       "Mercat                          61\n",
       "Moll                            57\n",
       "Carreró                         53\n",
       "Drecera                         45\n",
       "Pont                            38\n",
       "Viaducte                        34\n",
       "Mirador                         27\n",
       "Estació                         25\n",
       "Túnel                           23\n",
       "Rotonda                         21\n",
       "Costa                           19\n",
       "Davallada                       18\n",
       "Estació Metro                   17\n",
       "Grup                            16\n",
       "Espigó                          14\n",
       "Nus                              7\n",
       "Port                             7\n",
       "Vial                             3\n",
       "Pati                             3\n",
       "Barri                            1\n",
       "Escullera                        1\n",
       "Name: TIPUS_VIA, dtype: int64"
      ]
     },
     "execution_count": 21,
     "metadata": {},
     "output_type": "execute_result"
    }
   ],
   "source": [
    "new_data['TIPUS_VIA'].value_counts()"
   ]
  },
  {
   "cell_type": "markdown",
   "metadata": {},
   "source": [
    "## 8) Carrer Analysis"
   ]
  },
  {
   "cell_type": "code",
   "execution_count": 22,
   "metadata": {},
   "outputs": [
    {
     "data": {
      "text/plain": [
       "Corts Catalanes                6329\n",
       "Diagonal                       5395\n",
       "Meridiana                      3281\n",
       "Gràcia                         2910\n",
       "Provença                       2267\n",
       "                               ... \n",
       "Novelles                          1\n",
       "Ignasi de Solà-Morales            1\n",
       "Reina Elisabeth de Brunsvic       1\n",
       "Pont de Sant Martí                1\n",
       "Ictíneo                           1\n",
       "Name: CARRER, Length: 4006, dtype: int64"
      ]
     },
     "execution_count": 22,
     "metadata": {},
     "output_type": "execute_result"
    }
   ],
   "source": [
    "new_data['CARRER'].value_counts()"
   ]
  },
  {
   "cell_type": "markdown",
   "metadata": {},
   "source": [
    "## 9) Suport Analysis"
   ]
  },
  {
   "cell_type": "code",
   "execution_count": 23,
   "metadata": {},
   "outputs": [
    {
     "data": {
      "text/plain": [
       "TELÈFON                         276513\n",
       "WEB                              84194\n",
       "MÒBIL                            51632\n",
       "INSTÀNCIA                        14768\n",
       "ALTRES SUPORTS                    2430\n",
       "FULLS QUEIXES I SUGGERIMENTS       669\n",
       "PROXIMITAT GUB                     624\n",
       "CONSELL DE BARRI                   359\n",
       "CORREU ELECTRÒNIC                  255\n",
       "PRESENCIAL                          96\n",
       "QUIOSC                              87\n",
       "Operador intern mòbil/PDA           53\n",
       "CORREU POSTAL-CARTES                37\n",
       "INSTÀNCIA TELEMÀTICA                16\n",
       "FULLS QUEIXA GUUR                   11\n",
       "AUDIÈNCIA PÚBLICA                    1\n",
       "Name: SUPORT, dtype: int64"
      ]
     },
     "execution_count": 23,
     "metadata": {},
     "output_type": "execute_result"
    }
   ],
   "source": [
    "new_data['SUPORT'].value_counts()"
   ]
  },
  {
   "cell_type": "code",
   "execution_count": 55,
   "metadata": {},
   "outputs": [
    {
     "name": "stderr",
     "output_type": "stream",
     "text": [
      "C:\\Users\\alex1\\Anaconda3\\lib\\site-packages\\ipykernel_launcher.py:1: SettingWithCopyWarning: \n",
      "A value is trying to be set on a copy of a slice from a DataFrame.\n",
      "Try using .loc[row_indexer,col_indexer] = value instead\n",
      "\n",
      "See the caveats in the documentation: http://pandas.pydata.org/pandas-docs/stable/user_guide/indexing.html#returning-a-view-versus-a-copy\n",
      "  \"\"\"Entry point for launching an IPython kernel.\n"
     ]
    },
    {
     "data": {
      "text/html": [
       "<div>\n",
       "<style scoped>\n",
       "    .dataframe tbody tr th:only-of-type {\n",
       "        vertical-align: middle;\n",
       "    }\n",
       "\n",
       "    .dataframe tbody tr th {\n",
       "        vertical-align: top;\n",
       "    }\n",
       "\n",
       "    .dataframe thead th {\n",
       "        text-align: right;\n",
       "    }\n",
       "</style>\n",
       "<table border=\"1\" class=\"dataframe\">\n",
       "  <thead>\n",
       "    <tr style=\"text-align: right;\">\n",
       "      <th>SUPORT</th>\n",
       "      <th>ALTRES SUPORTS</th>\n",
       "      <th>AUDIÈNCIA PÚBLICA</th>\n",
       "      <th>CONSELL DE BARRI</th>\n",
       "      <th>CORREU ELECTRÒNIC</th>\n",
       "      <th>CORREU POSTAL-CARTES</th>\n",
       "      <th>FULLS QUEIXA GUUR</th>\n",
       "      <th>FULLS QUEIXES I SUGGERIMENTS</th>\n",
       "      <th>INSTÀNCIA</th>\n",
       "      <th>INSTÀNCIA TELEMÀTICA</th>\n",
       "      <th>MÒBIL</th>\n",
       "      <th>Operador intern mòbil/PDA</th>\n",
       "      <th>PRESENCIAL</th>\n",
       "      <th>PROXIMITAT GUB</th>\n",
       "      <th>QUIOSC</th>\n",
       "      <th>TELÈFON</th>\n",
       "      <th>WEB</th>\n",
       "    </tr>\n",
       "    <tr>\n",
       "      <th>ANY_DATA_ALTA</th>\n",
       "      <th></th>\n",
       "      <th></th>\n",
       "      <th></th>\n",
       "      <th></th>\n",
       "      <th></th>\n",
       "      <th></th>\n",
       "      <th></th>\n",
       "      <th></th>\n",
       "      <th></th>\n",
       "      <th></th>\n",
       "      <th></th>\n",
       "      <th></th>\n",
       "      <th></th>\n",
       "      <th></th>\n",
       "      <th></th>\n",
       "      <th></th>\n",
       "    </tr>\n",
       "  </thead>\n",
       "  <tbody>\n",
       "    <tr>\n",
       "      <td>2013</td>\n",
       "      <td>1.0</td>\n",
       "      <td>NaN</td>\n",
       "      <td>NaN</td>\n",
       "      <td>1.0</td>\n",
       "      <td>1.0</td>\n",
       "      <td>NaN</td>\n",
       "      <td>NaN</td>\n",
       "      <td>51.0</td>\n",
       "      <td>NaN</td>\n",
       "      <td>74.0</td>\n",
       "      <td>NaN</td>\n",
       "      <td>1.0</td>\n",
       "      <td>3.0</td>\n",
       "      <td>NaN</td>\n",
       "      <td>615.0</td>\n",
       "      <td>190.0</td>\n",
       "    </tr>\n",
       "    <tr>\n",
       "      <td>2014</td>\n",
       "      <td>113.0</td>\n",
       "      <td>NaN</td>\n",
       "      <td>2.0</td>\n",
       "      <td>34.0</td>\n",
       "      <td>2.0</td>\n",
       "      <td>NaN</td>\n",
       "      <td>57.0</td>\n",
       "      <td>1436.0</td>\n",
       "      <td>NaN</td>\n",
       "      <td>4240.0</td>\n",
       "      <td>7.0</td>\n",
       "      <td>32.0</td>\n",
       "      <td>101.0</td>\n",
       "      <td>9.0</td>\n",
       "      <td>43622.0</td>\n",
       "      <td>7964.0</td>\n",
       "    </tr>\n",
       "    <tr>\n",
       "      <td>2015</td>\n",
       "      <td>261.0</td>\n",
       "      <td>1.0</td>\n",
       "      <td>6.0</td>\n",
       "      <td>4.0</td>\n",
       "      <td>27.0</td>\n",
       "      <td>NaN</td>\n",
       "      <td>150.0</td>\n",
       "      <td>1820.0</td>\n",
       "      <td>NaN</td>\n",
       "      <td>5944.0</td>\n",
       "      <td>12.0</td>\n",
       "      <td>15.0</td>\n",
       "      <td>63.0</td>\n",
       "      <td>16.0</td>\n",
       "      <td>46117.0</td>\n",
       "      <td>10263.0</td>\n",
       "    </tr>\n",
       "    <tr>\n",
       "      <td>2016</td>\n",
       "      <td>408.0</td>\n",
       "      <td>NaN</td>\n",
       "      <td>23.0</td>\n",
       "      <td>11.0</td>\n",
       "      <td>NaN</td>\n",
       "      <td>NaN</td>\n",
       "      <td>95.0</td>\n",
       "      <td>2025.0</td>\n",
       "      <td>NaN</td>\n",
       "      <td>8350.0</td>\n",
       "      <td>9.0</td>\n",
       "      <td>7.0</td>\n",
       "      <td>144.0</td>\n",
       "      <td>7.0</td>\n",
       "      <td>44066.0</td>\n",
       "      <td>11905.0</td>\n",
       "    </tr>\n",
       "    <tr>\n",
       "      <td>2017</td>\n",
       "      <td>532.0</td>\n",
       "      <td>NaN</td>\n",
       "      <td>NaN</td>\n",
       "      <td>36.0</td>\n",
       "      <td>3.0</td>\n",
       "      <td>6.0</td>\n",
       "      <td>85.0</td>\n",
       "      <td>2170.0</td>\n",
       "      <td>NaN</td>\n",
       "      <td>11605.0</td>\n",
       "      <td>10.0</td>\n",
       "      <td>6.0</td>\n",
       "      <td>104.0</td>\n",
       "      <td>11.0</td>\n",
       "      <td>47125.0</td>\n",
       "      <td>15005.0</td>\n",
       "    </tr>\n",
       "    <tr>\n",
       "      <td>2018</td>\n",
       "      <td>666.0</td>\n",
       "      <td>NaN</td>\n",
       "      <td>2.0</td>\n",
       "      <td>87.0</td>\n",
       "      <td>NaN</td>\n",
       "      <td>3.0</td>\n",
       "      <td>88.0</td>\n",
       "      <td>1795.0</td>\n",
       "      <td>1.0</td>\n",
       "      <td>15637.0</td>\n",
       "      <td>8.0</td>\n",
       "      <td>14.0</td>\n",
       "      <td>62.0</td>\n",
       "      <td>26.0</td>\n",
       "      <td>59230.0</td>\n",
       "      <td>18416.0</td>\n",
       "    </tr>\n",
       "  </tbody>\n",
       "</table>\n",
       "</div>"
      ],
      "text/plain": [
       "SUPORT         ALTRES SUPORTS  AUDIÈNCIA PÚBLICA  CONSELL DE BARRI  \\\n",
       "ANY_DATA_ALTA                                                        \n",
       "2013                      1.0                NaN               NaN   \n",
       "2014                    113.0                NaN               2.0   \n",
       "2015                    261.0                1.0               6.0   \n",
       "2016                    408.0                NaN              23.0   \n",
       "2017                    532.0                NaN               NaN   \n",
       "2018                    666.0                NaN               2.0   \n",
       "\n",
       "SUPORT         CORREU ELECTRÒNIC  CORREU POSTAL-CARTES  FULLS QUEIXA GUUR  \\\n",
       "ANY_DATA_ALTA                                                               \n",
       "2013                         1.0                   1.0                NaN   \n",
       "2014                        34.0                   2.0                NaN   \n",
       "2015                         4.0                  27.0                NaN   \n",
       "2016                        11.0                   NaN                NaN   \n",
       "2017                        36.0                   3.0                6.0   \n",
       "2018                        87.0                   NaN                3.0   \n",
       "\n",
       "SUPORT         FULLS QUEIXES I SUGGERIMENTS  INSTÀNCIA  INSTÀNCIA TELEMÀTICA  \\\n",
       "ANY_DATA_ALTA                                                                  \n",
       "2013                                    NaN       51.0                   NaN   \n",
       "2014                                   57.0     1436.0                   NaN   \n",
       "2015                                  150.0     1820.0                   NaN   \n",
       "2016                                   95.0     2025.0                   NaN   \n",
       "2017                                   85.0     2170.0                   NaN   \n",
       "2018                                   88.0     1795.0                   1.0   \n",
       "\n",
       "SUPORT           MÒBIL  Operador intern mòbil/PDA  PRESENCIAL  PROXIMITAT GUB  \\\n",
       "ANY_DATA_ALTA                                                                   \n",
       "2013              74.0                        NaN         1.0             3.0   \n",
       "2014            4240.0                        7.0        32.0           101.0   \n",
       "2015            5944.0                       12.0        15.0            63.0   \n",
       "2016            8350.0                        9.0         7.0           144.0   \n",
       "2017           11605.0                       10.0         6.0           104.0   \n",
       "2018           15637.0                        8.0        14.0            62.0   \n",
       "\n",
       "SUPORT         QUIOSC  TELÈFON      WEB  \n",
       "ANY_DATA_ALTA                            \n",
       "2013              NaN    615.0    190.0  \n",
       "2014              9.0  43622.0   7964.0  \n",
       "2015             16.0  46117.0  10263.0  \n",
       "2016              7.0  44066.0  11905.0  \n",
       "2017             11.0  47125.0  15005.0  \n",
       "2018             26.0  59230.0  18416.0  "
      ]
     },
     "execution_count": 55,
     "metadata": {},
     "output_type": "execute_result"
    }
   ],
   "source": [
    "new_data['freq4'] = new_data.groupby('SUPORT')['SUPORT'].transform('count')\n",
    "pivot_any4 = pd.pivot_table(new_data, 'freq4', 'ANY_DATA_ALTA', 'SUPORT', aggfunc='count')\n",
    "pivot_any4"
   ]
  },
  {
   "cell_type": "code",
   "execution_count": 56,
   "metadata": {},
   "outputs": [
    {
     "data": {
      "image/png": "[encoded data removed]",
      "text/plain": [
       "<Figure size 864x648 with 1 Axes>"
      ]
     },
     "metadata": {
      "needs_background": "light"
     },
     "output_type": "display_data"
    }
   ],
   "source": [
    "%matplotlib inline \n",
    "import matplotlib.pylab as plt\n",
    "\n",
    "plot1 = pivot_any4.plot(kind='bar',style='b', stacked =True, alpha=0.7,title = \"Total Petitions per Year\", figsize=(12,9))\n",
    "plot1.legend(loc='center left', bbox_to_anchor=(1, 0.5))\n",
    "#plt.savefig(\"Totalvalue_Country.png\",dpi= 300, bbox_inches='tight')\n",
    "plt.show()"
   ]
  },
  {
   "cell_type": "markdown",
   "metadata": {},
   "source": [
    "## 10) Canals Reposta Analysis"
   ]
  },
  {
   "cell_type": "code",
   "execution_count": 26,
   "metadata": {},
   "outputs": [
    {
     "data": {
      "text/plain": [
       "EMAIL              215473\n",
       "NO VOL RESPOSTA     81802\n",
       "SMS                 62151\n",
       "IMMEDIATA           53044\n",
       "CARTA               19195\n",
       "TELEFÒNIC              80\n",
       "Name: CANALS_RESPOSTA, dtype: int64"
      ]
     },
     "execution_count": 26,
     "metadata": {},
     "output_type": "execute_result"
    }
   ],
   "source": [
    "new_data['CANALS_RESPOSTA'].value_counts()"
   ]
  },
  {
   "cell_type": "code",
   "execution_count": 27,
   "metadata": {},
   "outputs": [
    {
     "data": {
      "image/png": "[encoded data removed]",
      "text/plain": [
       "<Figure size 432x288 with 1 Axes>"
      ]
     },
     "metadata": {
      "needs_background": "light"
     },
     "output_type": "display_data"
    }
   ],
   "source": [
    "import numpy as np\n",
    "import matplotlib.mlab as mlab\n",
    "import matplotlib.pyplot as plt\n",
    "\n",
    "x = new_data['CANALS_RESPOSTA']\n",
    "num_bins = 12\n",
    "n, bins, patches = plt.hist(x, num_bins, facecolor='blue', alpha=10)\n",
    "plt.show()"
   ]
  },
  {
   "cell_type": "code",
   "execution_count": 58,
   "metadata": {},
   "outputs": [
    {
     "name": "stderr",
     "output_type": "stream",
     "text": [
      "C:\\Users\\alex1\\Anaconda3\\lib\\site-packages\\ipykernel_launcher.py:1: SettingWithCopyWarning: \n",
      "A value is trying to be set on a copy of a slice from a DataFrame.\n",
      "Try using .loc[row_indexer,col_indexer] = value instead\n",
      "\n",
      "See the caveats in the documentation: http://pandas.pydata.org/pandas-docs/stable/user_guide/indexing.html#returning-a-view-versus-a-copy\n",
      "  \"\"\"Entry point for launching an IPython kernel.\n"
     ]
    },
    {
     "data": {
      "text/html": [
       "<div>\n",
       "<style scoped>\n",
       "    .dataframe tbody tr th:only-of-type {\n",
       "        vertical-align: middle;\n",
       "    }\n",
       "\n",
       "    .dataframe tbody tr th {\n",
       "        vertical-align: top;\n",
       "    }\n",
       "\n",
       "    .dataframe thead th {\n",
       "        text-align: right;\n",
       "    }\n",
       "</style>\n",
       "<table border=\"1\" class=\"dataframe\">\n",
       "  <thead>\n",
       "    <tr style=\"text-align: right;\">\n",
       "      <th>CANALS_RESPOSTA</th>\n",
       "      <th>CARTA</th>\n",
       "      <th>EMAIL</th>\n",
       "      <th>IMMEDIATA</th>\n",
       "      <th>NO VOL RESPOSTA</th>\n",
       "      <th>SMS</th>\n",
       "      <th>TELEFÒNIC</th>\n",
       "    </tr>\n",
       "    <tr>\n",
       "      <th>ANY_DATA_ALTA</th>\n",
       "      <th></th>\n",
       "      <th></th>\n",
       "      <th></th>\n",
       "      <th></th>\n",
       "      <th></th>\n",
       "      <th></th>\n",
       "    </tr>\n",
       "  </thead>\n",
       "  <tbody>\n",
       "    <tr>\n",
       "      <td>2013</td>\n",
       "      <td>76.0</td>\n",
       "      <td>473.0</td>\n",
       "      <td>79.0</td>\n",
       "      <td>179.0</td>\n",
       "      <td>130.0</td>\n",
       "      <td>NaN</td>\n",
       "    </tr>\n",
       "    <tr>\n",
       "      <td>2014</td>\n",
       "      <td>2536.0</td>\n",
       "      <td>22897.0</td>\n",
       "      <td>8205.0</td>\n",
       "      <td>14908.0</td>\n",
       "      <td>9071.0</td>\n",
       "      <td>2.0</td>\n",
       "    </tr>\n",
       "    <tr>\n",
       "      <td>2015</td>\n",
       "      <td>2639.0</td>\n",
       "      <td>28524.0</td>\n",
       "      <td>8874.0</td>\n",
       "      <td>13516.0</td>\n",
       "      <td>11135.0</td>\n",
       "      <td>11.0</td>\n",
       "    </tr>\n",
       "    <tr>\n",
       "      <td>2016</td>\n",
       "      <td>2631.0</td>\n",
       "      <td>32379.0</td>\n",
       "      <td>8309.0</td>\n",
       "      <td>13493.0</td>\n",
       "      <td>10217.0</td>\n",
       "      <td>21.0</td>\n",
       "    </tr>\n",
       "    <tr>\n",
       "      <td>2017</td>\n",
       "      <td>2544.0</td>\n",
       "      <td>39012.0</td>\n",
       "      <td>8424.0</td>\n",
       "      <td>14638.0</td>\n",
       "      <td>12058.0</td>\n",
       "      <td>22.0</td>\n",
       "    </tr>\n",
       "    <tr>\n",
       "      <td>2018</td>\n",
       "      <td>2324.0</td>\n",
       "      <td>49231.0</td>\n",
       "      <td>10520.0</td>\n",
       "      <td>18342.0</td>\n",
       "      <td>15603.0</td>\n",
       "      <td>15.0</td>\n",
       "    </tr>\n",
       "  </tbody>\n",
       "</table>\n",
       "</div>"
      ],
      "text/plain": [
       "CANALS_RESPOSTA   CARTA    EMAIL  IMMEDIATA  NO VOL RESPOSTA      SMS  \\\n",
       "ANY_DATA_ALTA                                                           \n",
       "2013               76.0    473.0       79.0            179.0    130.0   \n",
       "2014             2536.0  22897.0     8205.0          14908.0   9071.0   \n",
       "2015             2639.0  28524.0     8874.0          13516.0  11135.0   \n",
       "2016             2631.0  32379.0     8309.0          13493.0  10217.0   \n",
       "2017             2544.0  39012.0     8424.0          14638.0  12058.0   \n",
       "2018             2324.0  49231.0    10520.0          18342.0  15603.0   \n",
       "\n",
       "CANALS_RESPOSTA  TELEFÒNIC  \n",
       "ANY_DATA_ALTA               \n",
       "2013                   NaN  \n",
       "2014                   2.0  \n",
       "2015                  11.0  \n",
       "2016                  21.0  \n",
       "2017                  22.0  \n",
       "2018                  15.0  "
      ]
     },
     "execution_count": 58,
     "metadata": {},
     "output_type": "execute_result"
    }
   ],
   "source": [
    "new_data['freq5'] = new_data.groupby('CANALS_RESPOSTA')['CANALS_RESPOSTA'].transform('count')\n",
    "pivot_any5 = pd.pivot_table(new_data, 'freq5', 'ANY_DATA_ALTA', 'CANALS_RESPOSTA', aggfunc='count')\n",
    "pivot_any5"
   ]
  },
  {
   "cell_type": "code",
   "execution_count": 59,
   "metadata": {},
   "outputs": [
    {
     "data": {
      "image/png": "[encoded data removed]",
      "text/plain": [
       "<Figure size 864x648 with 1 Axes>"
      ]
     },
     "metadata": {
      "needs_background": "light"
     },
     "output_type": "display_data"
    }
   ],
   "source": [
    "%matplotlib inline \n",
    "import matplotlib.pylab as plt\n",
    "\n",
    "plot1 = pivot_any5.plot(kind='bar',style='b', stacked =True, alpha=0.7,title = \"Total Petitions per Year\", figsize=(12,9))\n",
    "plot1.legend(loc='center left', bbox_to_anchor=(1, 0.5))\n",
    "#plt.savefig(\"Totalvalue_Country.png\",dpi= 300, bbox_inches='tight')\n",
    "plt.show()"
   ]
  },
  {
   "cell_type": "markdown",
   "metadata": {},
   "source": [
    "## 11) Check what kind of answers there per each type of petition"
   ]
  },
  {
   "cell_type": "code",
   "execution_count": 60,
   "metadata": {},
   "outputs": [
    {
     "data": {
      "text/plain": [
       "Series([], Name: ELEMENT, dtype: int64)"
      ]
     },
     "execution_count": 60,
     "metadata": {},
     "output_type": "execute_result"
    }
   ],
   "source": [
    "new_data[new_data.TIPUS == 'PETICIO DE SERVEI']['ELEMENT'].value_counts()"
   ]
  },
  {
   "cell_type": "code",
   "execution_count": 61,
   "metadata": {},
   "outputs": [
    {
     "data": {
      "text/plain": [
       "Neteja carrers i/o places                                 14041\n",
       "Altres obres a la via pública                              6858\n",
       "Molèsties soroll a la via pública                          6684\n",
       "Vehicles a motor                                           5120\n",
       "Recollida de mobles i trastos vells                        2441\n",
       "Oficina de protecció dels animals                          1857\n",
       "Bicicletes                                                 1562\n",
       "Recollida comercial                                        1528\n",
       "Voreres                                                    1278\n",
       "Arbrat                                                     1206\n",
       "Personal de neteja                                         1115\n",
       "Parcs jardins i zones verdes                               1055\n",
       "Recollida brossa domiciliària                               796\n",
       "Parcs, jardins i zones verdes                               777\n",
       "Salut ambiental i qualitat de l'aire                        675\n",
       "Nadal                                                       642\n",
       "Reserva plaça aparcament per discapacitat                   614\n",
       "Trànsit                                                     569\n",
       "Ordenació viària                                            506\n",
       "Punts verds                                                 447\n",
       "Escales mecàniques                                          318\n",
       "Pilones                                                     308\n",
       "Calçada                                                     275\n",
       "Recollida brossa neta                                       273\n",
       "Superilles a la ciutat                                      225\n",
       "Autobusos TMB                                               182\n",
       "Obres tren alta velocitat                                   130\n",
       "Recollida selectiva porta a porta casc antic de Sarrià      120\n",
       "Neteja solar municipal                                      113\n",
       "Obres plaça de les Glòries                                  108\n",
       "Sacs i contenidors runa                                     101\n",
       "Papereres                                                    96\n",
       "Clavegueram                                                  93\n",
       "Pintades / cartells                                          79\n",
       "Escales                                                      77\n",
       "Obres metro (línies 3, 5 i 9)                                51\n",
       "Baranes                                                      50\n",
       "Recollida pneumàtica                                         50\n",
       "Fonts                                                        50\n",
       "Zona bus                                                     31\n",
       "Platges                                                      26\n",
       "Font d'aigua per beure                                       18\n",
       "Recollida animals morts                                      12\n",
       "Opis / pirulis                                                9\n",
       "Patrimoni artístic (edificis, monuments i escultures)         4\n",
       "Platges neteja                                                4\n",
       "Patrimoni artístic (monuments i escultures)                   3\n",
       "Túnels                                                        2\n",
       "Name: ELEMENT, dtype: int64"
      ]
     },
     "execution_count": 61,
     "metadata": {},
     "output_type": "execute_result"
    }
   ],
   "source": [
    "new_data[new_data.TIPUS == 'QUEIXA']['ELEMENT'].value_counts()"
   ]
  },
  {
   "cell_type": "code",
   "execution_count": 62,
   "metadata": {},
   "outputs": [
    {
     "data": {
      "text/plain": [
       "Neteja carrers i/o places                    54574\n",
       "Arbrat                                       35617\n",
       "Enllumenat públic                            27098\n",
       "Voreres                                      26740\n",
       "Servei de vigilància i control de plagues    17505\n",
       "                                             ...  \n",
       "Senyalitzacions                                 56\n",
       "Túnels                                          53\n",
       "Opis / pirulis                                  51\n",
       "Nadal                                           25\n",
       "Zona bus                                        24\n",
       "Name: ELEMENT, Length: 65, dtype: int64"
      ]
     },
     "execution_count": 62,
     "metadata": {},
     "output_type": "execute_result"
    }
   ],
   "source": [
    "new_data[new_data.TIPUS == 'INCIDENCIA']['ELEMENT'].value_counts()"
   ]
  },
  {
   "cell_type": "code",
   "execution_count": 33,
   "metadata": {},
   "outputs": [
    {
     "data": {
      "text/plain": [
       "Recollida brossa domiciliària                        6604\n",
       "Ordenació viària                                     3340\n",
       "Bicicletes                                           3063\n",
       "Semàfors                                             2195\n",
       "Recollida comercial                                  2073\n",
       "Recollida brossa neta                                2069\n",
       "Voreres                                              2034\n",
       "Enllumenat públic                                    1875\n",
       "Autobusos TMB                                        1852\n",
       "Pilones                                              1657\n",
       "Senyalització vertical trànsit                       1598\n",
       "Bancs                                                1396\n",
       "Altres projectes urbanístics a la ciutat             1158\n",
       "Papereres                                            1084\n",
       "Senyalització horitzontal trànsit                    1058\n",
       "Zona gossos                                           980\n",
       "Calçada                                               853\n",
       "Jocs infantils                                        825\n",
       "Vehicles a motor                                      818\n",
       "Parcs jardins i zones verdes                          689\n",
       "Baranes                                               579\n",
       "Arbrat                                                429\n",
       "Miralls parabòlics públics                            417\n",
       "Senyals informatius                                   392\n",
       "Mobiliari urbà en parcs                               379\n",
       "Jardinera / test                                      370\n",
       "Lavabo públic                                         266\n",
       "Zona càrrega i descàrrega                             223\n",
       "Elements esportius  / lleure espai obert              209\n",
       "Altres festes populars                                167\n",
       "Òrgans participació districte Sarrià-Sant Gervasi     128\n",
       "Carril Bus / Taxi                                     128\n",
       "Fonts                                                 116\n",
       "Font d'aigua per beure                                 98\n",
       "Punts verds                                            75\n",
       "Òrgans participació districte Sant Martí               63\n",
       "Òrgans participació districte Gràcia                   61\n",
       "Camí escolar                                           57\n",
       "Tanca                                                  52\n",
       "Taxi                                                   48\n",
       "Escales mecàniques                                     44\n",
       "Festival Grec                                          37\n",
       "Òrgans participació districte Sants-Montjuïc           30\n",
       "Opis / pirulis                                         26\n",
       "Òrgans participació districte Horta-Guinardó           22\n",
       "Obres plaça de les Glòries                             20\n",
       "Escales                                                20\n",
       "Zona blava                                             19\n",
       "Ascensors urbans                                       18\n",
       "Plaques carrers                                        15\n",
       "Tramvia                                                10\n",
       "Altres obres a la via pública                           9\n",
       "Obres ronda general mitre                               5\n",
       "Obres av. paral·lel                                     4\n",
       "Zona bus                                                3\n",
       "Obres Via Augusta                                       1\n",
       "Name: ELEMENT, dtype: int64"
      ]
     },
     "execution_count": 33,
     "metadata": {},
     "output_type": "execute_result"
    }
   ],
   "source": [
    "new_data[new_data.TIPUS == 'SUGGERIMENT']['ELEMENT'].value_counts()"
   ]
  },
  {
   "cell_type": "markdown",
   "metadata": {},
   "source": [
    "# B) Numerical Data Analysis"
   ]
  },
  {
   "cell_type": "code",
   "execution_count": 34,
   "metadata": {},
   "outputs": [],
   "source": [
    "# Index:\n",
    "###'FITXA_ID', \n",
    "###'DIA_DATA_ALTA', 'MES_DATA_ALTA', 'ANY_DATA_ALTA',\n",
    "###'DIA_DATA_TANCAMENT', 'MES_DATA_TANCAMENT', 'ANY_DATA_TANCAMENT',\n",
    "### 'CODI_DISTRICTE', 'CODI_BARRI', 'SECCIO_CENSAL', 'NUMERO',\n",
    "###'COORDENADA_X', 'COORDENADA_Y', 'LONGITUD', 'LATITUD'"
   ]
  },
  {
   "cell_type": "code",
   "execution_count": 35,
   "metadata": {},
   "outputs": [
    {
     "data": {
      "text/plain": [
       "13    15897\n",
       "14    15608\n",
       "7     15455\n",
       "20    15216\n",
       "10    15095\n",
       "22    15017\n",
       "27    14926\n",
       "19    14784\n",
       "9     14744\n",
       "4     14703\n",
       "23    14693\n",
       "17    14508\n",
       "28    14296\n",
       "16    14272\n",
       "18    14221\n",
       "21    14093\n",
       "5     13993\n",
       "15    13992\n",
       "26    13970\n",
       "3     13908\n",
       "29    13874\n",
       "11    13703\n",
       "12    13630\n",
       "8     13432\n",
       "25    13366\n",
       "2     13192\n",
       "30    13015\n",
       "6     12759\n",
       "24    12310\n",
       "1     10905\n",
       "31     8168\n",
       "Name: DIA_DATA_TANCAMENT, dtype: int64"
      ]
     },
     "execution_count": 35,
     "metadata": {},
     "output_type": "execute_result"
    }
   ],
   "source": [
    "new_data['DIA_DATA_TANCAMENT'].value_counts()"
   ]
  },
  {
   "cell_type": "code",
   "execution_count": 40,
   "metadata": {},
   "outputs": [
    {
     "data": {
      "text/plain": [
       "7     44514\n",
       "10    42271\n",
       "9     39647\n",
       "1     37408\n",
       "6     37130\n",
       "3     37042\n",
       "11    36170\n",
       "8     33714\n",
       "2     33414\n",
       "5     33379\n",
       "12    29415\n",
       "4     27641\n",
       "Name: MES_DATA_TANCAMENT, dtype: int64"
      ]
     },
     "execution_count": 40,
     "metadata": {},
     "output_type": "execute_result"
    }
   ],
   "source": [
    "new_data['MES_DATA_TANCAMENT'].value_counts()"
   ]
  },
  {
   "cell_type": "code",
   "execution_count": 42,
   "metadata": {},
   "outputs": [
    {
     "data": {
      "image/png": "[encoded data removed]",
      "text/plain": [
       "<Figure size 432x288 with 1 Axes>"
      ]
     },
     "metadata": {
      "needs_background": "light"
     },
     "output_type": "display_data"
    }
   ],
   "source": [
    "import numpy as np\n",
    "import matplotlib.mlab as mlab\n",
    "import matplotlib.pyplot as plt\n",
    "\n",
    "x = new_data['MES_DATA_TANCAMENT']\n",
    "num_bins = 24\n",
    "n, bins, patches = plt.hist(x, num_bins, facecolor='blue', alpha=10)\n",
    "plt.show()"
   ]
  },
  {
   "cell_type": "code",
   "execution_count": 43,
   "metadata": {},
   "outputs": [
    {
     "data": {
      "text/plain": [
       "2018    108990\n",
       "2017     85577\n",
       "2016     75453\n",
       "2015     72065\n",
       "2014     64673\n",
       "2019     24987\n",
       "Name: ANY_DATA_TANCAMENT, dtype: int64"
      ]
     },
     "execution_count": 43,
     "metadata": {},
     "output_type": "execute_result"
    }
   ],
   "source": [
    "new_data['ANY_DATA_TANCAMENT'].value_counts()"
   ]
  },
  {
   "cell_type": "code",
   "execution_count": 48,
   "metadata": {},
   "outputs": [
    {
     "data": {
      "image/png": "[encoded data removed]",
      "text/plain": [
       "<Figure size 432x288 with 1 Axes>"
      ]
     },
     "metadata": {
      "needs_background": "light"
     },
     "output_type": "display_data"
    }
   ],
   "source": [
    "import numpy as np\n",
    "import matplotlib.mlab as mlab\n",
    "import matplotlib.pyplot as plt\n",
    "\n",
    "x = new_data['ANY_DATA_TANCAMENT']\n",
    "num_bins = 11\n",
    "n, bins, patches = plt.hist(x, num_bins, facecolor='blue', alpha=10)\n",
    "plt.show()"
   ]
  },
  {
   "cell_type": "code",
   "execution_count": 49,
   "metadata": {},
   "outputs": [
    {
     "data": {
      "text/plain": [
       "10.0    68772\n",
       "2.0     57070\n",
       "7.0     52128\n",
       "3.0     45976\n",
       "8.0     43126\n",
       "1.0     39707\n",
       "5.0     38364\n",
       "6.0     34149\n",
       "9.0     33729\n",
       "4.0     18724\n",
       "Name: CODI_DISTRICTE, dtype: int64"
      ]
     },
     "execution_count": 49,
     "metadata": {},
     "output_type": "execute_result"
    }
   ],
   "source": [
    "new_data['CODI_DISTRICTE'].value_counts()"
   ]
  },
  {
   "cell_type": "code",
   "execution_count": 51,
   "metadata": {},
   "outputs": [
    {
     "data": {
      "image/png": "[encoded data removed]",
      "text/plain": [
       "<Figure size 432x288 with 1 Axes>"
      ]
     },
     "metadata": {
      "needs_background": "light"
     },
     "output_type": "display_data"
    }
   ],
   "source": [
    "import numpy as np\n",
    "import matplotlib.mlab as mlab\n",
    "import matplotlib.pyplot as plt\n",
    "\n",
    "x = new_data['CODI_DISTRICTE']\n",
    "num_bins = 20\n",
    "n, bins, patches = plt.hist(x, num_bins, facecolor='blue', alpha=10)\n",
    "plt.show()"
   ]
  },
  {
   "cell_type": "code",
   "execution_count": 52,
   "metadata": {},
   "outputs": [
    {
     "data": {
      "text/plain": [
       "31.0    14519\n",
       "7.0     14163\n",
       "1.0     13713\n",
       "60.0    12651\n",
       "18.0    11870\n",
       "        ...  \n",
       "47.0     1057\n",
       "12.0      905\n",
       "56.0      720\n",
       "58.0      646\n",
       "42.0      487\n",
       "Name: CODI_BARRI, Length: 73, dtype: int64"
      ]
     },
     "execution_count": 52,
     "metadata": {},
     "output_type": "execute_result"
    }
   ],
   "source": [
    "new_data['CODI_BARRI'].value_counts()"
   ]
  },
  {
   "cell_type": "code",
   "execution_count": 53,
   "metadata": {},
   "outputs": [
    {
     "data": {
      "text/plain": [
       "42.0     6670\n",
       "43.0     6381\n",
       "1.0      5595\n",
       "24.0     5560\n",
       "53.0     5341\n",
       "         ... \n",
       "237.0     229\n",
       "154.0     228\n",
       "161.0     192\n",
       "156.0     167\n",
       "162.0     149\n",
       "Name: SECCIO_CENSAL, Length: 181, dtype: int64"
      ]
     },
     "execution_count": 53,
     "metadata": {},
     "output_type": "execute_result"
    }
   ],
   "source": [
    "new_data['SECCIO_CENSAL'].value_counts()"
   ]
  },
  {
   "cell_type": "code",
   "execution_count": 54,
   "metadata": {},
   "outputs": [
    {
     "data": {
      "text/plain": [
       "3.249566e+07    576\n",
       "4.274712e+05    294\n",
       "2.899495e+07    197\n",
       "2.847375e+07    190\n",
       "4.323570e+05    182\n",
       "               ... \n",
       "4.335343e+05      1\n",
       "2.825624e+07      1\n",
       "4.321333e+05      1\n",
       "4.288539e+05      1\n",
       "3.355488e+07      1\n",
       "Name: COORDENADA_X, Length: 104534, dtype: int64"
      ]
     },
     "execution_count": 54,
     "metadata": {},
     "output_type": "execute_result"
    }
   ],
   "source": [
    "new_data['COORDENADA_X'].value_counts()"
   ]
  },
  {
   "cell_type": "code",
   "execution_count": 55,
   "metadata": {},
   "outputs": [
    {
     "data": {
      "text/plain": [
       "8.585706e+07    576\n",
       "4.580739e+06    294\n",
       "8.495696e+07    197\n",
       "8.497729e+07    190\n",
       "4.584400e+06    182\n",
       "               ... \n",
       "8.500018e+07      1\n",
       "8.499822e+07      1\n",
       "8.996079e+07      1\n",
       "8.995658e+07      1\n",
       "8.299930e+07      1\n",
       "Name: COORDENADA_Y, Length: 105478, dtype: int64"
      ]
     },
     "execution_count": 55,
     "metadata": {},
     "output_type": "execute_result"
    }
   ],
   "source": [
    "new_data['COORDENADA_Y'].value_counts()"
   ]
  },
  {
   "cell_type": "code",
   "execution_count": 56,
   "metadata": {},
   "outputs": [
    {
     "data": {
      "text/plain": [
       "2.191080    619\n",
       "2.132675    294\n",
       "2.132680    239\n",
       "2.149300    238\n",
       "2.143060    234\n",
       "           ... \n",
       "2.159160      1\n",
       "2.133428      1\n",
       "2.100173      1\n",
       "2.169440      1\n",
       "2.143307      1\n",
       "Name: LONGITUD, Length: 78769, dtype: int64"
      ]
     },
     "execution_count": 56,
     "metadata": {},
     "output_type": "execute_result"
    }
   ],
   "source": [
    "new_data['LONGITUD'].value_counts()"
   ]
  },
  {
   "cell_type": "code",
   "execution_count": 57,
   "metadata": {},
   "outputs": [
    {
     "data": {
      "text/plain": [
       "41.419590    620\n",
       "41.374905    294\n",
       "41.411320    261\n",
       "41.374910    230\n",
       "41.411180    224\n",
       "            ... \n",
       "41.437942      1\n",
       "41.385718      1\n",
       "41.356190      1\n",
       "41.416466      1\n",
       "41.422238      1\n",
       "Name: LATITUD, Length: 77123, dtype: int64"
      ]
     },
     "execution_count": 57,
     "metadata": {},
     "output_type": "execute_result"
    }
   ],
   "source": [
    "new_data['LATITUD'].value_counts()"
   ]
  },
  {
   "cell_type": "markdown",
   "metadata": {},
   "source": [
    "# GEO PANDAS!"
   ]
  },
  {
   "cell_type": "code",
   "execution_count": 27,
   "metadata": {},
   "outputs": [],
   "source": [
    "import pandas as pd\n",
    "import matplotlib.pyplot as plt\n",
    "import descartes\n",
    "import geopandas as gdp\n",
    "from shapely.geometry import Point, Polygon\n",
    "\n",
    "%matplotlib inline"
   ]
  },
  {
   "cell_type": "code",
   "execution_count": 46,
   "metadata": {},
   "outputs": [],
   "source": [
    "street_map = gdp.read_file('shape/buildings.shp')"
   ]
  },
  {
   "cell_type": "code",
   "execution_count": 47,
   "metadata": {},
   "outputs": [
    {
     "data": {
      "image/png": "[encoded data removed]",
      "text/plain": [
       "<Figure size 432x288 with 1 Axes>"
      ]
     },
     "metadata": {
      "needs_background": "light"
     },
     "output_type": "display_data"
    }
   ],
   "source": [
    "ax = street_map.plot()"
   ]
  },
  {
   "cell_type": "code",
   "execution_count": 48,
   "metadata": {},
   "outputs": [],
   "source": [
    "street_map2 = gdp.read_file('shape/landuse.shp')"
   ]
  },
  {
   "cell_type": "code",
   "execution_count": 49,
   "metadata": {},
   "outputs": [
    {
     "data": {
      "image/png": "[encoded data removed]",
      "text/plain": [
       "<Figure size 432x288 with 1 Axes>"
      ]
     },
     "metadata": {
      "needs_background": "light"
     },
     "output_type": "display_data"
    }
   ],
   "source": [
    "ax = street_map2.plot()"
   ]
  },
  {
   "cell_type": "code",
   "execution_count": 50,
   "metadata": {},
   "outputs": [],
   "source": [
    "street_map3 = gdp.read_file('shape/natural.shp')"
   ]
  },
  {
   "cell_type": "code",
   "execution_count": 51,
   "metadata": {},
   "outputs": [
    {
     "data": {
      "image/png": "[encoded data removed]",
      "text/plain": [
       "<Figure size 432x288 with 1 Axes>"
      ]
     },
     "metadata": {
      "needs_background": "light"
     },
     "output_type": "display_data"
    }
   ],
   "source": [
    "ax = street_map3.plot()"
   ]
  },
  {
   "cell_type": "code",
   "execution_count": 52,
   "metadata": {},
   "outputs": [],
   "source": [
    "street_map4 = gdp.read_file('shape/places.shp')"
   ]
  },
  {
   "cell_type": "code",
   "execution_count": 53,
   "metadata": {},
   "outputs": [
    {
     "data": {
      "image/png": "[encoded data removed]",
      "text/plain": [
       "<Figure size 432x288 with 1 Axes>"
      ]
     },
     "metadata": {
      "needs_background": "light"
     },
     "output_type": "display_data"
    }
   ],
   "source": [
    "ax = street_map4.plot()"
   ]
  },
  {
   "cell_type": "code",
   "execution_count": 54,
   "metadata": {},
   "outputs": [],
   "source": [
    "street_map5 = gdp.read_file('shape/points.shp')"
   ]
  },
  {
   "cell_type": "code",
   "execution_count": 55,
   "metadata": {},
   "outputs": [
    {
     "data": {
      "image/png": "[encoded data removed]",
      "text/plain": [
       "<Figure size 432x288 with 1 Axes>"
      ]
     },
     "metadata": {
      "needs_background": "light"
     },
     "output_type": "display_data"
    }
   ],
   "source": [
    "ax = street_map5.plot()"
   ]
  },
  {
   "cell_type": "code",
   "execution_count": 56,
   "metadata": {},
   "outputs": [],
   "source": [
    "street_map6 = gdp.read_file('shape/railways.shp')"
   ]
  },
  {
   "cell_type": "code",
   "execution_count": 57,
   "metadata": {},
   "outputs": [
    {
     "data": {
      "image/png": "[encoded data removed]",
      "text/plain": [
       "<Figure size 432x288 with 1 Axes>"
      ]
     },
     "metadata": {
      "needs_background": "light"
     },
     "output_type": "display_data"
    }
   ],
   "source": [
    "ax = street_map6.plot()"
   ]
  },
  {
   "cell_type": "code",
   "execution_count": 58,
   "metadata": {},
   "outputs": [],
   "source": [
    "street_map7 = gdp.read_file('shape/roads.shp')"
   ]
  },
  {
   "cell_type": "code",
   "execution_count": 59,
   "metadata": {},
   "outputs": [
    {
     "data": {
      "image/png": "[encoded data removed]",
      "text/plain": [
       "<Figure size 432x288 with 1 Axes>"
      ]
     },
     "metadata": {
      "needs_background": "light"
     },
     "output_type": "display_data"
    }
   ],
   "source": [
    "ax = street_map7.plot()"
   ]
  },
  {
   "cell_type": "code",
   "execution_count": 61,
   "metadata": {},
   "outputs": [],
   "source": [
    "street_map8 = gdp.read_file('shape/waterways.shp')"
   ]
  },
  {
   "cell_type": "code",
   "execution_count": 62,
   "metadata": {},
   "outputs": [
    {
     "data": {
      "image/png": "[encoded data removed]",
      "text/plain": [
       "<Figure size 432x288 with 1 Axes>"
      ]
     },
     "metadata": {
      "needs_background": "light"
     },
     "output_type": "display_data"
    }
   ],
   "source": [
    "ax = street_map8.plot()"
   ]
  },
  {
   "cell_type": "markdown",
   "metadata": {},
   "source": [
    "## Geo Pandas dataframe..."
   ]
  },
  {
   "cell_type": "code",
   "execution_count": 30,
   "metadata": {},
   "outputs": [],
   "source": [
    "street_map = street_map.to_crs({'init': 'epsg:3395'})"
   ]
  },
  {
   "cell_type": "code",
   "execution_count": 31,
   "metadata": {},
   "outputs": [
    {
     "data": {
      "text/plain": [
       "[<shapely.geometry.point.Point at 0x1bc193b2400>,\n",
       " <shapely.geometry.point.Point at 0x1bc193b2048>,\n",
       " <shapely.geometry.point.Point at 0x1bc193b2080>,\n",
       " <shapely.geometry.point.Point at 0x1bc193b22b0>,\n",
       " <shapely.geometry.point.Point at 0x1bc19380ef0>]"
      ]
     },
     "execution_count": 31,
     "metadata": {},
     "output_type": "execute_result"
    }
   ],
   "source": [
    "geometry = [Point(xy) for xy in zip (new_data['LONGITUD'], new_data['LATITUD'])]\n",
    "geometry [:5]"
   ]
  },
  {
   "cell_type": "code",
   "execution_count": null,
   "metadata": {},
   "outputs": [],
   "source": [
    "geo_df = gdp.GeoDataFrame(new_data,\n",
    "                         street_map,\n",
    "                          geometry = geometry)\n",
    "geo_df.head()"
   ]
  },
  {
   "cell_type": "code",
   "execution_count": null,
   "metadata": {},
   "outputs": [],
   "source": [
    "fig,ax = plt.subplots (figsize = (15,15))\n",
    "street_map.plot (ax = ax, alpha = 0.4, color = 'grey')\n",
    "geo_df[geo_df['WnvPresent']==0].plot(ax = ax, markersize = 20, color = 'blue', marker = 'o', label = 'Neg')\n",
    "geo_df[geo_df['WnvPresent']==1].plot(ax = ax, markersize = 20, color = 'red', marker = 'o', label = 'Pos')\n",
    "plt.legend(prop={'size':15})"
   ]
  },
  {
   "cell_type": "markdown",
   "metadata": {},
   "source": [
    "# Altair..."
   ]
  },
  {
   "cell_type": "code",
   "execution_count": 1,
   "metadata": {},
   "outputs": [],
   "source": [
    "import pandas as pd\n",
    "import altair as alt\n",
    "from vega_datasets import data"
   ]
  },
  {
   "cell_type": "code",
   "execution_count": null,
   "metadata": {},
   "outputs": [],
   "source": []
  }
 ],
 "metadata": {
  "kernelspec": {
   "display_name": "Python 3",
   "language": "python",
   "name": "python3"
  },
  "language_info": {
   "codemirror_mode": {
    "name": "ipython",
    "version": 3
   },
   "file_extension": ".py",
   "mimetype": "text/x-python",
   "name": "python",
   "nbconvert_exporter": "python",
   "pygments_lexer": "ipython3",
   "version": "3.7.4"
  }
 },
 "nbformat": 4,
 "nbformat_minor": 2
}
